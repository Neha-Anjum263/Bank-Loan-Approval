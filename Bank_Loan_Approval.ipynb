{
  "metadata": {
    "colab": {
      "provenance": [],
      "include_colab_link": true
    },
    "kaggle": {
      "accelerator": "none",
      "dataSources": [
        {
          "sourceId": 6908879,
          "sourceType": "datasetVersion",
          "datasetId": 3967841
        }
      ],
      "isInternetEnabled": false,
      "language": "python",
      "sourceType": "notebook",
      "isGpuEnabled": false
    },
    "kernelspec": {
      "display_name": "Python 3",
      "name": "python3"
    },
    "language_info": {
      "codemirror_mode": {
        "name": "ipython",
        "version": 3
      },
      "file_extension": ".py",
      "mimetype": "text/x-python",
      "name": "python",
      "nbconvert_exporter": "python",
      "pygments_lexer": "ipython3",
      "version": "3.10.13"
    },
    "papermill": {
      "default_parameters": {},
      "duration": 34.948409,
      "end_time": "2024-05-02T21:18:43.302529",
      "environment_variables": {},
      "exception": null,
      "input_path": "__notebook__.ipynb",
      "output_path": "__notebook__.ipynb",
      "parameters": {},
      "start_time": "2024-05-02T21:18:08.35412",
      "version": "2.5.0"
    }
  },
  "nbformat_minor": 0,
  "nbformat": 4,
  "cells": [
    {
      "cell_type": "markdown",
      "metadata": {
        "id": "view-in-github",
        "colab_type": "text"
      },
      "source": [
        "<a href=\"https://colab.research.google.com/github/Neha-Anjum263/Bank-Loan-Approval/blob/main/Bank_Loan_Approval.ipynb\" target=\"_parent\"><img src=\"https://colab.research.google.com/assets/colab-badge.svg\" alt=\"Open In Colab\"/></a>"
      ]
    },
    {
      "cell_type": "markdown",
      "source": [
        "# Bank Loan Approval （Decision Tree，Random Forest)"
      ],
      "metadata": {
        "id": "XKI8j67bD3AF",
        "papermill": {
          "duration": 0.016944,
          "end_time": "2024-05-02T21:18:11.018112",
          "exception": false,
          "start_time": "2024-05-02T21:18:11.001168",
          "status": "completed"
        },
        "tags": []
      }
    },
    {
      "cell_type": "code",
      "source": [
        "import numpy as np\n",
        "import pandas as pd\n",
        "import os\n",
        "for dirname, _, filenames in os.walk('/kaggle/input'):\n",
        "    for filename in filenames:\n",
        "        print(os.path.join(dirname, filename))"
      ],
      "metadata": {
        "execution": {
          "iopub.execute_input": "2024-05-02T21:18:11.088238Z",
          "iopub.status.busy": "2024-05-02T21:18:11.087474Z",
          "iopub.status.idle": "2024-05-02T21:18:11.867919Z",
          "shell.execute_reply": "2024-05-02T21:18:11.866856Z"
        },
        "id": "piJsMrwM6EEn",
        "papermill": {
          "duration": 0.800756,
          "end_time": "2024-05-02T21:18:11.870524",
          "exception": false,
          "start_time": "2024-05-02T21:18:11.069768",
          "status": "completed"
        },
        "tags": []
      },
      "execution_count": null,
      "outputs": []
    },
    {
      "cell_type": "markdown",
      "source": [
        "Import all the libraries we need"
      ],
      "metadata": {
        "id": "RfEPJ0pKGoHD",
        "papermill": {
          "duration": 0.016758,
          "end_time": "2024-05-02T21:18:11.905017",
          "exception": false,
          "start_time": "2024-05-02T21:18:11.888259",
          "status": "completed"
        },
        "tags": []
      }
    },
    {
      "cell_type": "code",
      "source": [
        "import pandas as pd\n",
        "import numpy as np\n",
        "from matplotlib import pyplot as plt\n",
        "import seaborn as sns\n",
        "from imblearn.over_sampling import SMOTE\n",
        "from sklearn.model_selection import train_test_split\n",
        "from sklearn.tree import DecisionTreeClassifier\n",
        "from sklearn.ensemble import RandomForestClassifier\n",
        "from sklearn.metrics import classification_report\n",
        "from xgboost import XGBClassifier\n",
        "%matplotlib inline"
      ],
      "metadata": {
        "execution": {
          "iopub.execute_input": "2024-05-02T21:18:11.941468Z",
          "iopub.status.busy": "2024-05-02T21:18:11.940556Z",
          "iopub.status.idle": "2024-05-02T21:18:13.972175Z",
          "shell.execute_reply": "2024-05-02T21:18:13.971114Z"
        },
        "id": "VjT0BdhcvVVB",
        "papermill": {
          "duration": 2.052925,
          "end_time": "2024-05-02T21:18:13.974951",
          "exception": false,
          "start_time": "2024-05-02T21:18:11.922026",
          "status": "completed"
        },
        "tags": []
      },
      "execution_count": null,
      "outputs": []
    },
    {
      "cell_type": "markdown",
      "source": [
        "# 1. Introduction"
      ],
      "metadata": {
        "id": "EaMye20VG2EK",
        "papermill": {
          "duration": 0.016333,
          "end_time": "2024-05-02T21:18:14.010845",
          "exception": false,
          "start_time": "2024-05-02T21:18:13.994512",
          "status": "completed"
        },
        "tags": []
      }
    },
    {
      "cell_type": "markdown",
      "source": [
        "## 1.1 Load the data"
      ],
      "metadata": {
        "id": "lHYMrNJYHc0J",
        "papermill": {
          "duration": 0.01703,
          "end_time": "2024-05-02T21:18:14.045128",
          "exception": false,
          "start_time": "2024-05-02T21:18:14.028098",
          "status": "completed"
        },
        "tags": []
      }
    },
    {
      "cell_type": "code",
      "source": [
        "from google.colab import drive\n",
        "drive.mount('/content/drive')\n",
        "\n",
        "# Correct path to your uploaded CSV\n",
        "bank_loan = pd.read_csv (\"/content/drive/MyDrive/Colab Notebooks/Bank Loan Approval.csv\")"
      ],
      "metadata": {
        "execution": {
          "iopub.execute_input": "2024-05-02T21:18:14.080614Z",
          "iopub.status.busy": "2024-05-02T21:18:14.080083Z",
          "iopub.status.idle": "2024-05-02T21:18:14.109905Z",
          "shell.execute_reply": "2024-05-02T21:18:14.108753Z"
        },
        "id": "XX2laiEd6jM_",
        "papermill": {
          "duration": 0.050806,
          "end_time": "2024-05-02T21:18:14.112506",
          "exception": false,
          "start_time": "2024-05-02T21:18:14.0617",
          "status": "completed"
        },
        "tags": [],
        "outputId": "21510cc7-369d-481a-9b58-5a07590585ef",
        "colab": {
          "base_uri": "https://localhost:8080/"
        }
      },
      "execution_count": null,
      "outputs": [
        {
          "output_type": "stream",
          "name": "stdout",
          "text": [
            "Drive already mounted at /content/drive; to attempt to forcibly remount, call drive.mount(\"/content/drive\", force_remount=True).\n"
          ]
        }
      ]
    },
    {
      "cell_type": "code",
      "source": [
        "bank_loan.info()"
      ],
      "metadata": {
        "execution": {
          "iopub.execute_input": "2024-05-02T21:18:14.14759Z",
          "iopub.status.busy": "2024-05-02T21:18:14.147163Z",
          "iopub.status.idle": "2024-05-02T21:18:14.176853Z",
          "shell.execute_reply": "2024-05-02T21:18:14.175956Z"
        },
        "id": "tkiehNWx6lT4",
        "papermill": {
          "duration": 0.049553,
          "end_time": "2024-05-02T21:18:14.179011",
          "exception": false,
          "start_time": "2024-05-02T21:18:14.129458",
          "status": "completed"
        },
        "tags": [],
        "colab": {
          "base_uri": "https://localhost:8080/"
        },
        "outputId": "533cfb87-7ec4-4623-f0f6-9467d1d2fd6a"
      },
      "execution_count": null,
      "outputs": [
        {
          "output_type": "stream",
          "name": "stdout",
          "text": [
            "<class 'pandas.core.frame.DataFrame'>\n",
            "RangeIndex: 5000 entries, 0 to 4999\n",
            "Data columns (total 14 columns):\n",
            " #   Column              Non-Null Count  Dtype  \n",
            "---  ------              --------------  -----  \n",
            " 0   ID                  5000 non-null   int64  \n",
            " 1   Age                 5000 non-null   int64  \n",
            " 2   Experience          5000 non-null   int64  \n",
            " 3   Income              5000 non-null   int64  \n",
            " 4   ZIP.Code            5000 non-null   int64  \n",
            " 5   Family              5000 non-null   int64  \n",
            " 6   CCAvg               5000 non-null   float64\n",
            " 7   Education           5000 non-null   int64  \n",
            " 8   Mortgage            5000 non-null   int64  \n",
            " 9   Personal.Loan       5000 non-null   int64  \n",
            " 10  Securities.Account  5000 non-null   int64  \n",
            " 11  CD.Account          5000 non-null   int64  \n",
            " 12  Online              5000 non-null   int64  \n",
            " 13  CreditCard          5000 non-null   int64  \n",
            "dtypes: float64(1), int64(13)\n",
            "memory usage: 547.0 KB\n"
          ]
        }
      ]
    },
    {
      "cell_type": "code",
      "source": [
        "bank_loan.describe()"
      ],
      "metadata": {
        "execution": {
          "iopub.execute_input": "2024-05-02T21:18:14.21445Z",
          "iopub.status.busy": "2024-05-02T21:18:14.213783Z",
          "iopub.status.idle": "2024-05-02T21:18:14.264769Z",
          "shell.execute_reply": "2024-05-02T21:18:14.263773Z"
        },
        "id": "07ycCbeh63QY",
        "outputId": "501e9d5a-4271-4dc4-a2b2-203684d873bd",
        "papermill": {
          "duration": 0.071254,
          "end_time": "2024-05-02T21:18:14.266999",
          "exception": false,
          "start_time": "2024-05-02T21:18:14.195745",
          "status": "completed"
        },
        "tags": [],
        "colab": {
          "base_uri": "https://localhost:8080/",
          "height": 320
        }
      },
      "execution_count": null,
      "outputs": [
        {
          "output_type": "execute_result",
          "data": {
            "text/plain": [
              "                ID          Age   Experience       Income      ZIP.Code  \\\n",
              "count  5000.000000  5000.000000  5000.000000  5000.000000   5000.000000   \n",
              "mean   2500.500000    45.338400    20.104600    73.774200  93152.503000   \n",
              "std    1443.520003    11.463166    11.467954    46.033729   2121.852197   \n",
              "min       1.000000    23.000000    -3.000000     8.000000   9307.000000   \n",
              "25%    1250.750000    35.000000    10.000000    39.000000  91911.000000   \n",
              "50%    2500.500000    45.000000    20.000000    64.000000  93437.000000   \n",
              "75%    3750.250000    55.000000    30.000000    98.000000  94608.000000   \n",
              "max    5000.000000    67.000000    43.000000   224.000000  96651.000000   \n",
              "\n",
              "            Family        CCAvg    Education     Mortgage  Personal.Loan  \\\n",
              "count  5000.000000  5000.000000  5000.000000  5000.000000    5000.000000   \n",
              "mean      2.396400     1.937938     1.881000    56.498800       0.096000   \n",
              "std       1.147663     1.747659     0.839869   101.713802       0.294621   \n",
              "min       1.000000     0.000000     1.000000     0.000000       0.000000   \n",
              "25%       1.000000     0.700000     1.000000     0.000000       0.000000   \n",
              "50%       2.000000     1.500000     2.000000     0.000000       0.000000   \n",
              "75%       3.000000     2.500000     3.000000   101.000000       0.000000   \n",
              "max       4.000000    10.000000     3.000000   635.000000       1.000000   \n",
              "\n",
              "       Securities.Account  CD.Account       Online   CreditCard  \n",
              "count         5000.000000  5000.00000  5000.000000  5000.000000  \n",
              "mean             0.104400     0.06040     0.596800     0.294000  \n",
              "std              0.305809     0.23825     0.490589     0.455637  \n",
              "min              0.000000     0.00000     0.000000     0.000000  \n",
              "25%              0.000000     0.00000     0.000000     0.000000  \n",
              "50%              0.000000     0.00000     1.000000     0.000000  \n",
              "75%              0.000000     0.00000     1.000000     1.000000  \n",
              "max              1.000000     1.00000     1.000000     1.000000  "
            ],
            "text/html": [
              "\n",
              "  <div id=\"df-c961726d-ca21-42b9-b022-39a993a5a305\" class=\"colab-df-container\">\n",
              "    <div>\n",
              "<style scoped>\n",
              "    .dataframe tbody tr th:only-of-type {\n",
              "        vertical-align: middle;\n",
              "    }\n",
              "\n",
              "    .dataframe tbody tr th {\n",
              "        vertical-align: top;\n",
              "    }\n",
              "\n",
              "    .dataframe thead th {\n",
              "        text-align: right;\n",
              "    }\n",
              "</style>\n",
              "<table border=\"1\" class=\"dataframe\">\n",
              "  <thead>\n",
              "    <tr style=\"text-align: right;\">\n",
              "      <th></th>\n",
              "      <th>ID</th>\n",
              "      <th>Age</th>\n",
              "      <th>Experience</th>\n",
              "      <th>Income</th>\n",
              "      <th>ZIP.Code</th>\n",
              "      <th>Family</th>\n",
              "      <th>CCAvg</th>\n",
              "      <th>Education</th>\n",
              "      <th>Mortgage</th>\n",
              "      <th>Personal.Loan</th>\n",
              "      <th>Securities.Account</th>\n",
              "      <th>CD.Account</th>\n",
              "      <th>Online</th>\n",
              "      <th>CreditCard</th>\n",
              "    </tr>\n",
              "  </thead>\n",
              "  <tbody>\n",
              "    <tr>\n",
              "      <th>count</th>\n",
              "      <td>5000.000000</td>\n",
              "      <td>5000.000000</td>\n",
              "      <td>5000.000000</td>\n",
              "      <td>5000.000000</td>\n",
              "      <td>5000.000000</td>\n",
              "      <td>5000.000000</td>\n",
              "      <td>5000.000000</td>\n",
              "      <td>5000.000000</td>\n",
              "      <td>5000.000000</td>\n",
              "      <td>5000.000000</td>\n",
              "      <td>5000.000000</td>\n",
              "      <td>5000.00000</td>\n",
              "      <td>5000.000000</td>\n",
              "      <td>5000.000000</td>\n",
              "    </tr>\n",
              "    <tr>\n",
              "      <th>mean</th>\n",
              "      <td>2500.500000</td>\n",
              "      <td>45.338400</td>\n",
              "      <td>20.104600</td>\n",
              "      <td>73.774200</td>\n",
              "      <td>93152.503000</td>\n",
              "      <td>2.396400</td>\n",
              "      <td>1.937938</td>\n",
              "      <td>1.881000</td>\n",
              "      <td>56.498800</td>\n",
              "      <td>0.096000</td>\n",
              "      <td>0.104400</td>\n",
              "      <td>0.06040</td>\n",
              "      <td>0.596800</td>\n",
              "      <td>0.294000</td>\n",
              "    </tr>\n",
              "    <tr>\n",
              "      <th>std</th>\n",
              "      <td>1443.520003</td>\n",
              "      <td>11.463166</td>\n",
              "      <td>11.467954</td>\n",
              "      <td>46.033729</td>\n",
              "      <td>2121.852197</td>\n",
              "      <td>1.147663</td>\n",
              "      <td>1.747659</td>\n",
              "      <td>0.839869</td>\n",
              "      <td>101.713802</td>\n",
              "      <td>0.294621</td>\n",
              "      <td>0.305809</td>\n",
              "      <td>0.23825</td>\n",
              "      <td>0.490589</td>\n",
              "      <td>0.455637</td>\n",
              "    </tr>\n",
              "    <tr>\n",
              "      <th>min</th>\n",
              "      <td>1.000000</td>\n",
              "      <td>23.000000</td>\n",
              "      <td>-3.000000</td>\n",
              "      <td>8.000000</td>\n",
              "      <td>9307.000000</td>\n",
              "      <td>1.000000</td>\n",
              "      <td>0.000000</td>\n",
              "      <td>1.000000</td>\n",
              "      <td>0.000000</td>\n",
              "      <td>0.000000</td>\n",
              "      <td>0.000000</td>\n",
              "      <td>0.00000</td>\n",
              "      <td>0.000000</td>\n",
              "      <td>0.000000</td>\n",
              "    </tr>\n",
              "    <tr>\n",
              "      <th>25%</th>\n",
              "      <td>1250.750000</td>\n",
              "      <td>35.000000</td>\n",
              "      <td>10.000000</td>\n",
              "      <td>39.000000</td>\n",
              "      <td>91911.000000</td>\n",
              "      <td>1.000000</td>\n",
              "      <td>0.700000</td>\n",
              "      <td>1.000000</td>\n",
              "      <td>0.000000</td>\n",
              "      <td>0.000000</td>\n",
              "      <td>0.000000</td>\n",
              "      <td>0.00000</td>\n",
              "      <td>0.000000</td>\n",
              "      <td>0.000000</td>\n",
              "    </tr>\n",
              "    <tr>\n",
              "      <th>50%</th>\n",
              "      <td>2500.500000</td>\n",
              "      <td>45.000000</td>\n",
              "      <td>20.000000</td>\n",
              "      <td>64.000000</td>\n",
              "      <td>93437.000000</td>\n",
              "      <td>2.000000</td>\n",
              "      <td>1.500000</td>\n",
              "      <td>2.000000</td>\n",
              "      <td>0.000000</td>\n",
              "      <td>0.000000</td>\n",
              "      <td>0.000000</td>\n",
              "      <td>0.00000</td>\n",
              "      <td>1.000000</td>\n",
              "      <td>0.000000</td>\n",
              "    </tr>\n",
              "    <tr>\n",
              "      <th>75%</th>\n",
              "      <td>3750.250000</td>\n",
              "      <td>55.000000</td>\n",
              "      <td>30.000000</td>\n",
              "      <td>98.000000</td>\n",
              "      <td>94608.000000</td>\n",
              "      <td>3.000000</td>\n",
              "      <td>2.500000</td>\n",
              "      <td>3.000000</td>\n",
              "      <td>101.000000</td>\n",
              "      <td>0.000000</td>\n",
              "      <td>0.000000</td>\n",
              "      <td>0.00000</td>\n",
              "      <td>1.000000</td>\n",
              "      <td>1.000000</td>\n",
              "    </tr>\n",
              "    <tr>\n",
              "      <th>max</th>\n",
              "      <td>5000.000000</td>\n",
              "      <td>67.000000</td>\n",
              "      <td>43.000000</td>\n",
              "      <td>224.000000</td>\n",
              "      <td>96651.000000</td>\n",
              "      <td>4.000000</td>\n",
              "      <td>10.000000</td>\n",
              "      <td>3.000000</td>\n",
              "      <td>635.000000</td>\n",
              "      <td>1.000000</td>\n",
              "      <td>1.000000</td>\n",
              "      <td>1.00000</td>\n",
              "      <td>1.000000</td>\n",
              "      <td>1.000000</td>\n",
              "    </tr>\n",
              "  </tbody>\n",
              "</table>\n",
              "</div>\n",
              "    <div class=\"colab-df-buttons\">\n",
              "\n",
              "  <div class=\"colab-df-container\">\n",
              "    <button class=\"colab-df-convert\" onclick=\"convertToInteractive('df-c961726d-ca21-42b9-b022-39a993a5a305')\"\n",
              "            title=\"Convert this dataframe to an interactive table.\"\n",
              "            style=\"display:none;\">\n",
              "\n",
              "  <svg xmlns=\"http://www.w3.org/2000/svg\" height=\"24px\" viewBox=\"0 -960 960 960\">\n",
              "    <path d=\"M120-120v-720h720v720H120Zm60-500h600v-160H180v160Zm220 220h160v-160H400v160Zm0 220h160v-160H400v160ZM180-400h160v-160H180v160Zm440 0h160v-160H620v160ZM180-180h160v-160H180v160Zm440 0h160v-160H620v160Z\"/>\n",
              "  </svg>\n",
              "    </button>\n",
              "\n",
              "  <style>\n",
              "    .colab-df-container {\n",
              "      display:flex;\n",
              "      gap: 12px;\n",
              "    }\n",
              "\n",
              "    .colab-df-convert {\n",
              "      background-color: #E8F0FE;\n",
              "      border: none;\n",
              "      border-radius: 50%;\n",
              "      cursor: pointer;\n",
              "      display: none;\n",
              "      fill: #1967D2;\n",
              "      height: 32px;\n",
              "      padding: 0 0 0 0;\n",
              "      width: 32px;\n",
              "    }\n",
              "\n",
              "    .colab-df-convert:hover {\n",
              "      background-color: #E2EBFA;\n",
              "      box-shadow: 0px 1px 2px rgba(60, 64, 67, 0.3), 0px 1px 3px 1px rgba(60, 64, 67, 0.15);\n",
              "      fill: #174EA6;\n",
              "    }\n",
              "\n",
              "    .colab-df-buttons div {\n",
              "      margin-bottom: 4px;\n",
              "    }\n",
              "\n",
              "    [theme=dark] .colab-df-convert {\n",
              "      background-color: #3B4455;\n",
              "      fill: #D2E3FC;\n",
              "    }\n",
              "\n",
              "    [theme=dark] .colab-df-convert:hover {\n",
              "      background-color: #434B5C;\n",
              "      box-shadow: 0px 1px 3px 1px rgba(0, 0, 0, 0.15);\n",
              "      filter: drop-shadow(0px 1px 2px rgba(0, 0, 0, 0.3));\n",
              "      fill: #FFFFFF;\n",
              "    }\n",
              "  </style>\n",
              "\n",
              "    <script>\n",
              "      const buttonEl =\n",
              "        document.querySelector('#df-c961726d-ca21-42b9-b022-39a993a5a305 button.colab-df-convert');\n",
              "      buttonEl.style.display =\n",
              "        google.colab.kernel.accessAllowed ? 'block' : 'none';\n",
              "\n",
              "      async function convertToInteractive(key) {\n",
              "        const element = document.querySelector('#df-c961726d-ca21-42b9-b022-39a993a5a305');\n",
              "        const dataTable =\n",
              "          await google.colab.kernel.invokeFunction('convertToInteractive',\n",
              "                                                    [key], {});\n",
              "        if (!dataTable) return;\n",
              "\n",
              "        const docLinkHtml = 'Like what you see? Visit the ' +\n",
              "          '<a target=\"_blank\" href=https://colab.research.google.com/notebooks/data_table.ipynb>data table notebook</a>'\n",
              "          + ' to learn more about interactive tables.';\n",
              "        element.innerHTML = '';\n",
              "        dataTable['output_type'] = 'display_data';\n",
              "        await google.colab.output.renderOutput(dataTable, element);\n",
              "        const docLink = document.createElement('div');\n",
              "        docLink.innerHTML = docLinkHtml;\n",
              "        element.appendChild(docLink);\n",
              "      }\n",
              "    </script>\n",
              "  </div>\n",
              "\n",
              "\n",
              "    <div id=\"df-ccf26b64-64df-4490-91f4-cd3cce2fc453\">\n",
              "      <button class=\"colab-df-quickchart\" onclick=\"quickchart('df-ccf26b64-64df-4490-91f4-cd3cce2fc453')\"\n",
              "                title=\"Suggest charts\"\n",
              "                style=\"display:none;\">\n",
              "\n",
              "<svg xmlns=\"http://www.w3.org/2000/svg\" height=\"24px\"viewBox=\"0 0 24 24\"\n",
              "     width=\"24px\">\n",
              "    <g>\n",
              "        <path d=\"M19 3H5c-1.1 0-2 .9-2 2v14c0 1.1.9 2 2 2h14c1.1 0 2-.9 2-2V5c0-1.1-.9-2-2-2zM9 17H7v-7h2v7zm4 0h-2V7h2v10zm4 0h-2v-4h2v4z\"/>\n",
              "    </g>\n",
              "</svg>\n",
              "      </button>\n",
              "\n",
              "<style>\n",
              "  .colab-df-quickchart {\n",
              "      --bg-color: #E8F0FE;\n",
              "      --fill-color: #1967D2;\n",
              "      --hover-bg-color: #E2EBFA;\n",
              "      --hover-fill-color: #174EA6;\n",
              "      --disabled-fill-color: #AAA;\n",
              "      --disabled-bg-color: #DDD;\n",
              "  }\n",
              "\n",
              "  [theme=dark] .colab-df-quickchart {\n",
              "      --bg-color: #3B4455;\n",
              "      --fill-color: #D2E3FC;\n",
              "      --hover-bg-color: #434B5C;\n",
              "      --hover-fill-color: #FFFFFF;\n",
              "      --disabled-bg-color: #3B4455;\n",
              "      --disabled-fill-color: #666;\n",
              "  }\n",
              "\n",
              "  .colab-df-quickchart {\n",
              "    background-color: var(--bg-color);\n",
              "    border: none;\n",
              "    border-radius: 50%;\n",
              "    cursor: pointer;\n",
              "    display: none;\n",
              "    fill: var(--fill-color);\n",
              "    height: 32px;\n",
              "    padding: 0;\n",
              "    width: 32px;\n",
              "  }\n",
              "\n",
              "  .colab-df-quickchart:hover {\n",
              "    background-color: var(--hover-bg-color);\n",
              "    box-shadow: 0 1px 2px rgba(60, 64, 67, 0.3), 0 1px 3px 1px rgba(60, 64, 67, 0.15);\n",
              "    fill: var(--button-hover-fill-color);\n",
              "  }\n",
              "\n",
              "  .colab-df-quickchart-complete:disabled,\n",
              "  .colab-df-quickchart-complete:disabled:hover {\n",
              "    background-color: var(--disabled-bg-color);\n",
              "    fill: var(--disabled-fill-color);\n",
              "    box-shadow: none;\n",
              "  }\n",
              "\n",
              "  .colab-df-spinner {\n",
              "    border: 2px solid var(--fill-color);\n",
              "    border-color: transparent;\n",
              "    border-bottom-color: var(--fill-color);\n",
              "    animation:\n",
              "      spin 1s steps(1) infinite;\n",
              "  }\n",
              "\n",
              "  @keyframes spin {\n",
              "    0% {\n",
              "      border-color: transparent;\n",
              "      border-bottom-color: var(--fill-color);\n",
              "      border-left-color: var(--fill-color);\n",
              "    }\n",
              "    20% {\n",
              "      border-color: transparent;\n",
              "      border-left-color: var(--fill-color);\n",
              "      border-top-color: var(--fill-color);\n",
              "    }\n",
              "    30% {\n",
              "      border-color: transparent;\n",
              "      border-left-color: var(--fill-color);\n",
              "      border-top-color: var(--fill-color);\n",
              "      border-right-color: var(--fill-color);\n",
              "    }\n",
              "    40% {\n",
              "      border-color: transparent;\n",
              "      border-right-color: var(--fill-color);\n",
              "      border-top-color: var(--fill-color);\n",
              "    }\n",
              "    60% {\n",
              "      border-color: transparent;\n",
              "      border-right-color: var(--fill-color);\n",
              "    }\n",
              "    80% {\n",
              "      border-color: transparent;\n",
              "      border-right-color: var(--fill-color);\n",
              "      border-bottom-color: var(--fill-color);\n",
              "    }\n",
              "    90% {\n",
              "      border-color: transparent;\n",
              "      border-bottom-color: var(--fill-color);\n",
              "    }\n",
              "  }\n",
              "</style>\n",
              "\n",
              "      <script>\n",
              "        async function quickchart(key) {\n",
              "          const quickchartButtonEl =\n",
              "            document.querySelector('#' + key + ' button');\n",
              "          quickchartButtonEl.disabled = true;  // To prevent multiple clicks.\n",
              "          quickchartButtonEl.classList.add('colab-df-spinner');\n",
              "          try {\n",
              "            const charts = await google.colab.kernel.invokeFunction(\n",
              "                'suggestCharts', [key], {});\n",
              "          } catch (error) {\n",
              "            console.error('Error during call to suggestCharts:', error);\n",
              "          }\n",
              "          quickchartButtonEl.classList.remove('colab-df-spinner');\n",
              "          quickchartButtonEl.classList.add('colab-df-quickchart-complete');\n",
              "        }\n",
              "        (() => {\n",
              "          let quickchartButtonEl =\n",
              "            document.querySelector('#df-ccf26b64-64df-4490-91f4-cd3cce2fc453 button');\n",
              "          quickchartButtonEl.style.display =\n",
              "            google.colab.kernel.accessAllowed ? 'block' : 'none';\n",
              "        })();\n",
              "      </script>\n",
              "    </div>\n",
              "\n",
              "    </div>\n",
              "  </div>\n"
            ],
            "application/vnd.google.colaboratory.intrinsic+json": {
              "type": "dataframe",
              "summary": "{\n  \"name\": \"bank_loan\",\n  \"rows\": 8,\n  \"fields\": [\n    {\n      \"column\": \"ID\",\n      \"properties\": {\n        \"dtype\": \"number\",\n        \"std\": 1801.7194007539213,\n        \"min\": 1.0,\n        \"max\": 5000.0,\n        \"num_unique_values\": 6,\n        \"samples\": [\n          5000.0,\n          2500.5,\n          3750.25\n        ],\n        \"semantic_type\": \"\",\n        \"description\": \"\"\n      }\n    },\n    {\n      \"column\": \"Age\",\n      \"properties\": {\n        \"dtype\": \"number\",\n        \"std\": 1753.620805335703,\n        \"min\": 11.463165630542692,\n        \"max\": 5000.0,\n        \"num_unique_values\": 8,\n        \"samples\": [\n          45.3384,\n          45.0,\n          5000.0\n        ],\n        \"semantic_type\": \"\",\n        \"description\": \"\"\n      }\n    },\n    {\n      \"column\": \"Experience\",\n      \"properties\": {\n        \"dtype\": \"number\",\n        \"std\": 1761.1750987699384,\n        \"min\": -3.0,\n        \"max\": 5000.0,\n        \"num_unique_values\": 8,\n        \"samples\": [\n          20.1046,\n          20.0,\n          5000.0\n        ],\n        \"semantic_type\": \"\",\n        \"description\": \"\"\n      }\n    },\n    {\n      \"column\": \"Income\",\n      \"properties\": {\n        \"dtype\": \"number\",\n        \"std\": 1741.0511295244876,\n        \"min\": 8.0,\n        \"max\": 5000.0,\n        \"num_unique_values\": 8,\n        \"samples\": [\n          73.7742,\n          64.0,\n          5000.0\n        ],\n        \"semantic_type\": \"\",\n        \"description\": \"\"\n      }\n    },\n    {\n      \"column\": \"ZIP.Code\",\n      \"properties\": {\n        \"dtype\": \"number\",\n        \"std\": 45851.18176499451,\n        \"min\": 2121.8521973362103,\n        \"max\": 96651.0,\n        \"num_unique_values\": 8,\n        \"samples\": [\n          93152.503,\n          93437.0,\n          5000.0\n        ],\n        \"semantic_type\": \"\",\n        \"description\": \"\"\n      }\n    },\n    {\n      \"column\": \"Family\",\n      \"properties\": {\n        \"dtype\": \"number\",\n        \"std\": 1767.0326838207473,\n        \"min\": 1.0,\n        \"max\": 5000.0,\n        \"num_unique_values\": 7,\n        \"samples\": [\n          5000.0,\n          2.3964,\n          3.0\n        ],\n        \"semantic_type\": \"\",\n        \"description\": \"\"\n      }\n    },\n    {\n      \"column\": \"CCAvg\",\n      \"properties\": {\n        \"dtype\": \"number\",\n        \"std\": 1766.8410693308192,\n        \"min\": 0.0,\n        \"max\": 5000.0,\n        \"num_unique_values\": 8,\n        \"samples\": [\n          1.9379380000000002,\n          1.5,\n          5000.0\n        ],\n        \"semantic_type\": \"\",\n        \"description\": \"\"\n      }\n    },\n    {\n      \"column\": \"Education\",\n      \"properties\": {\n        \"dtype\": \"number\",\n        \"std\": 1767.1246592628527,\n        \"min\": 0.8398690826641675,\n        \"max\": 5000.0,\n        \"num_unique_values\": 6,\n        \"samples\": [\n          5000.0,\n          1.881,\n          3.0\n        ],\n        \"semantic_type\": \"\",\n        \"description\": \"\"\n      }\n    },\n    {\n      \"column\": \"Mortgage\",\n      \"properties\": {\n        \"dtype\": \"number\",\n        \"std\": 1735.5215781303364,\n        \"min\": 0.0,\n        \"max\": 5000.0,\n        \"num_unique_values\": 6,\n        \"samples\": [\n          5000.0,\n          56.4988,\n          635.0\n        ],\n        \"semantic_type\": \"\",\n        \"description\": \"\"\n      }\n    },\n    {\n      \"column\": \"Personal.Loan\",\n      \"properties\": {\n        \"dtype\": \"number\",\n        \"std\": 1767.6967491386272,\n        \"min\": 0.0,\n        \"max\": 5000.0,\n        \"num_unique_values\": 5,\n        \"samples\": [\n          0.096,\n          1.0,\n          0.29462070577616833\n        ],\n        \"semantic_type\": \"\",\n        \"description\": \"\"\n      }\n    },\n    {\n      \"column\": \"Securities.Account\",\n      \"properties\": {\n        \"dtype\": \"number\",\n        \"std\": 1767.6957597866906,\n        \"min\": 0.0,\n        \"max\": 5000.0,\n        \"num_unique_values\": 5,\n        \"samples\": [\n          0.1044,\n          1.0,\n          0.30580932600032174\n        ],\n        \"semantic_type\": \"\",\n        \"description\": \"\"\n      }\n    },\n    {\n      \"column\": \"CD.Account\",\n      \"properties\": {\n        \"dtype\": \"number\",\n        \"std\": 1767.7013943358518,\n        \"min\": 0.0,\n        \"max\": 5000.0,\n        \"num_unique_values\": 5,\n        \"samples\": [\n          0.0604,\n          1.0,\n          0.2382502731132395\n        ],\n        \"semantic_type\": \"\",\n        \"description\": \"\"\n      }\n    },\n    {\n      \"column\": \"Online\",\n      \"properties\": {\n        \"dtype\": \"number\",\n        \"std\": 1767.5605575334405,\n        \"min\": 0.0,\n        \"max\": 5000.0,\n        \"num_unique_values\": 5,\n        \"samples\": [\n          0.5968,\n          1.0,\n          0.49058933496266544\n        ],\n        \"semantic_type\": \"\",\n        \"description\": \"\"\n      }\n    },\n    {\n      \"column\": \"CreditCard\",\n      \"properties\": {\n        \"dtype\": \"number\",\n        \"std\": 1767.6281243566943,\n        \"min\": 0.0,\n        \"max\": 5000.0,\n        \"num_unique_values\": 5,\n        \"samples\": [\n          0.294,\n          1.0,\n          0.45563748869494275\n        ],\n        \"semantic_type\": \"\",\n        \"description\": \"\"\n      }\n    }\n  ]\n}"
            }
          },
          "metadata": {},
          "execution_count": 8
        }
      ]
    },
    {
      "cell_type": "code",
      "source": [
        "bank_loan.head()"
      ],
      "metadata": {
        "execution": {
          "iopub.execute_input": "2024-05-02T21:18:14.304246Z",
          "iopub.status.busy": "2024-05-02T21:18:14.303856Z",
          "iopub.status.idle": "2024-05-02T21:18:14.318322Z",
          "shell.execute_reply": "2024-05-02T21:18:14.317076Z"
        },
        "id": "Vd7UgmEY7AFm",
        "papermill": {
          "duration": 0.035587,
          "end_time": "2024-05-02T21:18:14.32072",
          "exception": false,
          "start_time": "2024-05-02T21:18:14.285133",
          "status": "completed"
        },
        "tags": [],
        "colab": {
          "base_uri": "https://localhost:8080/",
          "height": 206
        },
        "outputId": "e1b1ed92-6473-4f70-cdf1-fdf47c390a70"
      },
      "execution_count": null,
      "outputs": [
        {
          "output_type": "execute_result",
          "data": {
            "text/plain": [
              "   ID  Age  Experience  Income  ZIP.Code  Family  CCAvg  Education  Mortgage  \\\n",
              "0   1   25           1      49     91107       4    1.6          1         0   \n",
              "1   2   45          19      34     90089       3    1.5          1         0   \n",
              "2   3   39          15      11     94720       1    1.0          1         0   \n",
              "3   4   35           9     100     94112       1    2.7          2         0   \n",
              "4   5   35           8      45     91330       4    1.0          2         0   \n",
              "\n",
              "   Personal.Loan  Securities.Account  CD.Account  Online  CreditCard  \n",
              "0              0                   1           0       0           0  \n",
              "1              0                   1           0       0           0  \n",
              "2              0                   0           0       0           0  \n",
              "3              0                   0           0       0           0  \n",
              "4              0                   0           0       0           1  "
            ],
            "text/html": [
              "\n",
              "  <div id=\"df-c08213a4-bed8-4b86-9ef6-ed4fd737d798\" class=\"colab-df-container\">\n",
              "    <div>\n",
              "<style scoped>\n",
              "    .dataframe tbody tr th:only-of-type {\n",
              "        vertical-align: middle;\n",
              "    }\n",
              "\n",
              "    .dataframe tbody tr th {\n",
              "        vertical-align: top;\n",
              "    }\n",
              "\n",
              "    .dataframe thead th {\n",
              "        text-align: right;\n",
              "    }\n",
              "</style>\n",
              "<table border=\"1\" class=\"dataframe\">\n",
              "  <thead>\n",
              "    <tr style=\"text-align: right;\">\n",
              "      <th></th>\n",
              "      <th>ID</th>\n",
              "      <th>Age</th>\n",
              "      <th>Experience</th>\n",
              "      <th>Income</th>\n",
              "      <th>ZIP.Code</th>\n",
              "      <th>Family</th>\n",
              "      <th>CCAvg</th>\n",
              "      <th>Education</th>\n",
              "      <th>Mortgage</th>\n",
              "      <th>Personal.Loan</th>\n",
              "      <th>Securities.Account</th>\n",
              "      <th>CD.Account</th>\n",
              "      <th>Online</th>\n",
              "      <th>CreditCard</th>\n",
              "    </tr>\n",
              "  </thead>\n",
              "  <tbody>\n",
              "    <tr>\n",
              "      <th>0</th>\n",
              "      <td>1</td>\n",
              "      <td>25</td>\n",
              "      <td>1</td>\n",
              "      <td>49</td>\n",
              "      <td>91107</td>\n",
              "      <td>4</td>\n",
              "      <td>1.6</td>\n",
              "      <td>1</td>\n",
              "      <td>0</td>\n",
              "      <td>0</td>\n",
              "      <td>1</td>\n",
              "      <td>0</td>\n",
              "      <td>0</td>\n",
              "      <td>0</td>\n",
              "    </tr>\n",
              "    <tr>\n",
              "      <th>1</th>\n",
              "      <td>2</td>\n",
              "      <td>45</td>\n",
              "      <td>19</td>\n",
              "      <td>34</td>\n",
              "      <td>90089</td>\n",
              "      <td>3</td>\n",
              "      <td>1.5</td>\n",
              "      <td>1</td>\n",
              "      <td>0</td>\n",
              "      <td>0</td>\n",
              "      <td>1</td>\n",
              "      <td>0</td>\n",
              "      <td>0</td>\n",
              "      <td>0</td>\n",
              "    </tr>\n",
              "    <tr>\n",
              "      <th>2</th>\n",
              "      <td>3</td>\n",
              "      <td>39</td>\n",
              "      <td>15</td>\n",
              "      <td>11</td>\n",
              "      <td>94720</td>\n",
              "      <td>1</td>\n",
              "      <td>1.0</td>\n",
              "      <td>1</td>\n",
              "      <td>0</td>\n",
              "      <td>0</td>\n",
              "      <td>0</td>\n",
              "      <td>0</td>\n",
              "      <td>0</td>\n",
              "      <td>0</td>\n",
              "    </tr>\n",
              "    <tr>\n",
              "      <th>3</th>\n",
              "      <td>4</td>\n",
              "      <td>35</td>\n",
              "      <td>9</td>\n",
              "      <td>100</td>\n",
              "      <td>94112</td>\n",
              "      <td>1</td>\n",
              "      <td>2.7</td>\n",
              "      <td>2</td>\n",
              "      <td>0</td>\n",
              "      <td>0</td>\n",
              "      <td>0</td>\n",
              "      <td>0</td>\n",
              "      <td>0</td>\n",
              "      <td>0</td>\n",
              "    </tr>\n",
              "    <tr>\n",
              "      <th>4</th>\n",
              "      <td>5</td>\n",
              "      <td>35</td>\n",
              "      <td>8</td>\n",
              "      <td>45</td>\n",
              "      <td>91330</td>\n",
              "      <td>4</td>\n",
              "      <td>1.0</td>\n",
              "      <td>2</td>\n",
              "      <td>0</td>\n",
              "      <td>0</td>\n",
              "      <td>0</td>\n",
              "      <td>0</td>\n",
              "      <td>0</td>\n",
              "      <td>1</td>\n",
              "    </tr>\n",
              "  </tbody>\n",
              "</table>\n",
              "</div>\n",
              "    <div class=\"colab-df-buttons\">\n",
              "\n",
              "  <div class=\"colab-df-container\">\n",
              "    <button class=\"colab-df-convert\" onclick=\"convertToInteractive('df-c08213a4-bed8-4b86-9ef6-ed4fd737d798')\"\n",
              "            title=\"Convert this dataframe to an interactive table.\"\n",
              "            style=\"display:none;\">\n",
              "\n",
              "  <svg xmlns=\"http://www.w3.org/2000/svg\" height=\"24px\" viewBox=\"0 -960 960 960\">\n",
              "    <path d=\"M120-120v-720h720v720H120Zm60-500h600v-160H180v160Zm220 220h160v-160H400v160Zm0 220h160v-160H400v160ZM180-400h160v-160H180v160Zm440 0h160v-160H620v160ZM180-180h160v-160H180v160Zm440 0h160v-160H620v160Z\"/>\n",
              "  </svg>\n",
              "    </button>\n",
              "\n",
              "  <style>\n",
              "    .colab-df-container {\n",
              "      display:flex;\n",
              "      gap: 12px;\n",
              "    }\n",
              "\n",
              "    .colab-df-convert {\n",
              "      background-color: #E8F0FE;\n",
              "      border: none;\n",
              "      border-radius: 50%;\n",
              "      cursor: pointer;\n",
              "      display: none;\n",
              "      fill: #1967D2;\n",
              "      height: 32px;\n",
              "      padding: 0 0 0 0;\n",
              "      width: 32px;\n",
              "    }\n",
              "\n",
              "    .colab-df-convert:hover {\n",
              "      background-color: #E2EBFA;\n",
              "      box-shadow: 0px 1px 2px rgba(60, 64, 67, 0.3), 0px 1px 3px 1px rgba(60, 64, 67, 0.15);\n",
              "      fill: #174EA6;\n",
              "    }\n",
              "\n",
              "    .colab-df-buttons div {\n",
              "      margin-bottom: 4px;\n",
              "    }\n",
              "\n",
              "    [theme=dark] .colab-df-convert {\n",
              "      background-color: #3B4455;\n",
              "      fill: #D2E3FC;\n",
              "    }\n",
              "\n",
              "    [theme=dark] .colab-df-convert:hover {\n",
              "      background-color: #434B5C;\n",
              "      box-shadow: 0px 1px 3px 1px rgba(0, 0, 0, 0.15);\n",
              "      filter: drop-shadow(0px 1px 2px rgba(0, 0, 0, 0.3));\n",
              "      fill: #FFFFFF;\n",
              "    }\n",
              "  </style>\n",
              "\n",
              "    <script>\n",
              "      const buttonEl =\n",
              "        document.querySelector('#df-c08213a4-bed8-4b86-9ef6-ed4fd737d798 button.colab-df-convert');\n",
              "      buttonEl.style.display =\n",
              "        google.colab.kernel.accessAllowed ? 'block' : 'none';\n",
              "\n",
              "      async function convertToInteractive(key) {\n",
              "        const element = document.querySelector('#df-c08213a4-bed8-4b86-9ef6-ed4fd737d798');\n",
              "        const dataTable =\n",
              "          await google.colab.kernel.invokeFunction('convertToInteractive',\n",
              "                                                    [key], {});\n",
              "        if (!dataTable) return;\n",
              "\n",
              "        const docLinkHtml = 'Like what you see? Visit the ' +\n",
              "          '<a target=\"_blank\" href=https://colab.research.google.com/notebooks/data_table.ipynb>data table notebook</a>'\n",
              "          + ' to learn more about interactive tables.';\n",
              "        element.innerHTML = '';\n",
              "        dataTable['output_type'] = 'display_data';\n",
              "        await google.colab.output.renderOutput(dataTable, element);\n",
              "        const docLink = document.createElement('div');\n",
              "        docLink.innerHTML = docLinkHtml;\n",
              "        element.appendChild(docLink);\n",
              "      }\n",
              "    </script>\n",
              "  </div>\n",
              "\n",
              "\n",
              "    <div id=\"df-081eb258-9b8f-4b8c-b852-0e5907d7fbfc\">\n",
              "      <button class=\"colab-df-quickchart\" onclick=\"quickchart('df-081eb258-9b8f-4b8c-b852-0e5907d7fbfc')\"\n",
              "                title=\"Suggest charts\"\n",
              "                style=\"display:none;\">\n",
              "\n",
              "<svg xmlns=\"http://www.w3.org/2000/svg\" height=\"24px\"viewBox=\"0 0 24 24\"\n",
              "     width=\"24px\">\n",
              "    <g>\n",
              "        <path d=\"M19 3H5c-1.1 0-2 .9-2 2v14c0 1.1.9 2 2 2h14c1.1 0 2-.9 2-2V5c0-1.1-.9-2-2-2zM9 17H7v-7h2v7zm4 0h-2V7h2v10zm4 0h-2v-4h2v4z\"/>\n",
              "    </g>\n",
              "</svg>\n",
              "      </button>\n",
              "\n",
              "<style>\n",
              "  .colab-df-quickchart {\n",
              "      --bg-color: #E8F0FE;\n",
              "      --fill-color: #1967D2;\n",
              "      --hover-bg-color: #E2EBFA;\n",
              "      --hover-fill-color: #174EA6;\n",
              "      --disabled-fill-color: #AAA;\n",
              "      --disabled-bg-color: #DDD;\n",
              "  }\n",
              "\n",
              "  [theme=dark] .colab-df-quickchart {\n",
              "      --bg-color: #3B4455;\n",
              "      --fill-color: #D2E3FC;\n",
              "      --hover-bg-color: #434B5C;\n",
              "      --hover-fill-color: #FFFFFF;\n",
              "      --disabled-bg-color: #3B4455;\n",
              "      --disabled-fill-color: #666;\n",
              "  }\n",
              "\n",
              "  .colab-df-quickchart {\n",
              "    background-color: var(--bg-color);\n",
              "    border: none;\n",
              "    border-radius: 50%;\n",
              "    cursor: pointer;\n",
              "    display: none;\n",
              "    fill: var(--fill-color);\n",
              "    height: 32px;\n",
              "    padding: 0;\n",
              "    width: 32px;\n",
              "  }\n",
              "\n",
              "  .colab-df-quickchart:hover {\n",
              "    background-color: var(--hover-bg-color);\n",
              "    box-shadow: 0 1px 2px rgba(60, 64, 67, 0.3), 0 1px 3px 1px rgba(60, 64, 67, 0.15);\n",
              "    fill: var(--button-hover-fill-color);\n",
              "  }\n",
              "\n",
              "  .colab-df-quickchart-complete:disabled,\n",
              "  .colab-df-quickchart-complete:disabled:hover {\n",
              "    background-color: var(--disabled-bg-color);\n",
              "    fill: var(--disabled-fill-color);\n",
              "    box-shadow: none;\n",
              "  }\n",
              "\n",
              "  .colab-df-spinner {\n",
              "    border: 2px solid var(--fill-color);\n",
              "    border-color: transparent;\n",
              "    border-bottom-color: var(--fill-color);\n",
              "    animation:\n",
              "      spin 1s steps(1) infinite;\n",
              "  }\n",
              "\n",
              "  @keyframes spin {\n",
              "    0% {\n",
              "      border-color: transparent;\n",
              "      border-bottom-color: var(--fill-color);\n",
              "      border-left-color: var(--fill-color);\n",
              "    }\n",
              "    20% {\n",
              "      border-color: transparent;\n",
              "      border-left-color: var(--fill-color);\n",
              "      border-top-color: var(--fill-color);\n",
              "    }\n",
              "    30% {\n",
              "      border-color: transparent;\n",
              "      border-left-color: var(--fill-color);\n",
              "      border-top-color: var(--fill-color);\n",
              "      border-right-color: var(--fill-color);\n",
              "    }\n",
              "    40% {\n",
              "      border-color: transparent;\n",
              "      border-right-color: var(--fill-color);\n",
              "      border-top-color: var(--fill-color);\n",
              "    }\n",
              "    60% {\n",
              "      border-color: transparent;\n",
              "      border-right-color: var(--fill-color);\n",
              "    }\n",
              "    80% {\n",
              "      border-color: transparent;\n",
              "      border-right-color: var(--fill-color);\n",
              "      border-bottom-color: var(--fill-color);\n",
              "    }\n",
              "    90% {\n",
              "      border-color: transparent;\n",
              "      border-bottom-color: var(--fill-color);\n",
              "    }\n",
              "  }\n",
              "</style>\n",
              "\n",
              "      <script>\n",
              "        async function quickchart(key) {\n",
              "          const quickchartButtonEl =\n",
              "            document.querySelector('#' + key + ' button');\n",
              "          quickchartButtonEl.disabled = true;  // To prevent multiple clicks.\n",
              "          quickchartButtonEl.classList.add('colab-df-spinner');\n",
              "          try {\n",
              "            const charts = await google.colab.kernel.invokeFunction(\n",
              "                'suggestCharts', [key], {});\n",
              "          } catch (error) {\n",
              "            console.error('Error during call to suggestCharts:', error);\n",
              "          }\n",
              "          quickchartButtonEl.classList.remove('colab-df-spinner');\n",
              "          quickchartButtonEl.classList.add('colab-df-quickchart-complete');\n",
              "        }\n",
              "        (() => {\n",
              "          let quickchartButtonEl =\n",
              "            document.querySelector('#df-081eb258-9b8f-4b8c-b852-0e5907d7fbfc button');\n",
              "          quickchartButtonEl.style.display =\n",
              "            google.colab.kernel.accessAllowed ? 'block' : 'none';\n",
              "        })();\n",
              "      </script>\n",
              "    </div>\n",
              "\n",
              "    </div>\n",
              "  </div>\n"
            ],
            "application/vnd.google.colaboratory.intrinsic+json": {
              "type": "dataframe",
              "variable_name": "bank_loan",
              "summary": "{\n  \"name\": \"bank_loan\",\n  \"rows\": 5000,\n  \"fields\": [\n    {\n      \"column\": \"ID\",\n      \"properties\": {\n        \"dtype\": \"number\",\n        \"std\": 1443,\n        \"min\": 1,\n        \"max\": 5000,\n        \"num_unique_values\": 5000,\n        \"samples\": [\n          1502,\n          2587,\n          2654\n        ],\n        \"semantic_type\": \"\",\n        \"description\": \"\"\n      }\n    },\n    {\n      \"column\": \"Age\",\n      \"properties\": {\n        \"dtype\": \"number\",\n        \"std\": 11,\n        \"min\": 23,\n        \"max\": 67,\n        \"num_unique_values\": 45,\n        \"samples\": [\n          24,\n          31,\n          51\n        ],\n        \"semantic_type\": \"\",\n        \"description\": \"\"\n      }\n    },\n    {\n      \"column\": \"Experience\",\n      \"properties\": {\n        \"dtype\": \"number\",\n        \"std\": 11,\n        \"min\": -3,\n        \"max\": 43,\n        \"num_unique_values\": 47,\n        \"samples\": [\n          12,\n          38,\n          7\n        ],\n        \"semantic_type\": \"\",\n        \"description\": \"\"\n      }\n    },\n    {\n      \"column\": \"Income\",\n      \"properties\": {\n        \"dtype\": \"number\",\n        \"std\": 46,\n        \"min\": 8,\n        \"max\": 224,\n        \"num_unique_values\": 162,\n        \"samples\": [\n          151,\n          75,\n          182\n        ],\n        \"semantic_type\": \"\",\n        \"description\": \"\"\n      }\n    },\n    {\n      \"column\": \"ZIP.Code\",\n      \"properties\": {\n        \"dtype\": \"number\",\n        \"std\": 2121,\n        \"min\": 9307,\n        \"max\": 96651,\n        \"num_unique_values\": 467,\n        \"samples\": [\n          91335,\n          95134,\n          92672\n        ],\n        \"semantic_type\": \"\",\n        \"description\": \"\"\n      }\n    },\n    {\n      \"column\": \"Family\",\n      \"properties\": {\n        \"dtype\": \"number\",\n        \"std\": 1,\n        \"min\": 1,\n        \"max\": 4,\n        \"num_unique_values\": 4,\n        \"samples\": [\n          3,\n          2,\n          4\n        ],\n        \"semantic_type\": \"\",\n        \"description\": \"\"\n      }\n    },\n    {\n      \"column\": \"CCAvg\",\n      \"properties\": {\n        \"dtype\": \"number\",\n        \"std\": 1.7476589800467723,\n        \"min\": 0.0,\n        \"max\": 10.0,\n        \"num_unique_values\": 108,\n        \"samples\": [\n          3.4,\n          3.8,\n          0.4\n        ],\n        \"semantic_type\": \"\",\n        \"description\": \"\"\n      }\n    },\n    {\n      \"column\": \"Education\",\n      \"properties\": {\n        \"dtype\": \"number\",\n        \"std\": 0,\n        \"min\": 1,\n        \"max\": 3,\n        \"num_unique_values\": 3,\n        \"samples\": [\n          1,\n          2,\n          3\n        ],\n        \"semantic_type\": \"\",\n        \"description\": \"\"\n      }\n    },\n    {\n      \"column\": \"Mortgage\",\n      \"properties\": {\n        \"dtype\": \"number\",\n        \"std\": 101,\n        \"min\": 0,\n        \"max\": 635,\n        \"num_unique_values\": 347,\n        \"samples\": [\n          330,\n          314,\n          258\n        ],\n        \"semantic_type\": \"\",\n        \"description\": \"\"\n      }\n    },\n    {\n      \"column\": \"Personal.Loan\",\n      \"properties\": {\n        \"dtype\": \"number\",\n        \"std\": 0,\n        \"min\": 0,\n        \"max\": 1,\n        \"num_unique_values\": 2,\n        \"samples\": [\n          1,\n          0\n        ],\n        \"semantic_type\": \"\",\n        \"description\": \"\"\n      }\n    },\n    {\n      \"column\": \"Securities.Account\",\n      \"properties\": {\n        \"dtype\": \"number\",\n        \"std\": 0,\n        \"min\": 0,\n        \"max\": 1,\n        \"num_unique_values\": 2,\n        \"samples\": [\n          0,\n          1\n        ],\n        \"semantic_type\": \"\",\n        \"description\": \"\"\n      }\n    },\n    {\n      \"column\": \"CD.Account\",\n      \"properties\": {\n        \"dtype\": \"number\",\n        \"std\": 0,\n        \"min\": 0,\n        \"max\": 1,\n        \"num_unique_values\": 2,\n        \"samples\": [\n          1,\n          0\n        ],\n        \"semantic_type\": \"\",\n        \"description\": \"\"\n      }\n    },\n    {\n      \"column\": \"Online\",\n      \"properties\": {\n        \"dtype\": \"number\",\n        \"std\": 0,\n        \"min\": 0,\n        \"max\": 1,\n        \"num_unique_values\": 2,\n        \"samples\": [\n          1,\n          0\n        ],\n        \"semantic_type\": \"\",\n        \"description\": \"\"\n      }\n    },\n    {\n      \"column\": \"CreditCard\",\n      \"properties\": {\n        \"dtype\": \"number\",\n        \"std\": 0,\n        \"min\": 0,\n        \"max\": 1,\n        \"num_unique_values\": 2,\n        \"samples\": [\n          1,\n          0\n        ],\n        \"semantic_type\": \"\",\n        \"description\": \"\"\n      }\n    }\n  ]\n}"
            }
          },
          "metadata": {},
          "execution_count": 9
        }
      ]
    },
    {
      "cell_type": "markdown",
      "source": [
        "# 2. Exploratory Data Analysis"
      ],
      "metadata": {
        "id": "9KbRLEBJTcVe",
        "papermill": {
          "duration": 0.017311,
          "end_time": "2024-05-02T21:18:14.355331",
          "exception": false,
          "start_time": "2024-05-02T21:18:14.33802",
          "status": "completed"
        },
        "tags": []
      }
    },
    {
      "cell_type": "markdown",
      "source": [
        "## 2.1 Check null values"
      ],
      "metadata": {
        "id": "-gVAV2GATvOl",
        "papermill": {
          "duration": 0.016983,
          "end_time": "2024-05-02T21:18:14.389573",
          "exception": false,
          "start_time": "2024-05-02T21:18:14.37259",
          "status": "completed"
        },
        "tags": []
      }
    },
    {
      "cell_type": "code",
      "source": [
        "bank_loan.isnull().sum()"
      ],
      "metadata": {
        "execution": {
          "iopub.execute_input": "2024-05-02T21:18:14.425259Z",
          "iopub.status.busy": "2024-05-02T21:18:14.424852Z",
          "iopub.status.idle": "2024-05-02T21:18:14.43358Z",
          "shell.execute_reply": "2024-05-02T21:18:14.432656Z"
        },
        "id": "lG6L-LhNEb7b",
        "papermill": {
          "duration": 0.029042,
          "end_time": "2024-05-02T21:18:14.435597",
          "exception": false,
          "start_time": "2024-05-02T21:18:14.406555",
          "status": "completed"
        },
        "tags": [],
        "colab": {
          "base_uri": "https://localhost:8080/",
          "height": 523
        },
        "outputId": "d8148845-7f04-446b-fec5-3eeb38a52ebf"
      },
      "execution_count": null,
      "outputs": [
        {
          "output_type": "execute_result",
          "data": {
            "text/plain": [
              "ID                    0\n",
              "Age                   0\n",
              "Experience            0\n",
              "Income                0\n",
              "ZIP.Code              0\n",
              "Family                0\n",
              "CCAvg                 0\n",
              "Education             0\n",
              "Mortgage              0\n",
              "Personal.Loan         0\n",
              "Securities.Account    0\n",
              "CD.Account            0\n",
              "Online                0\n",
              "CreditCard            0\n",
              "dtype: int64"
            ],
            "text/html": [
              "<div>\n",
              "<style scoped>\n",
              "    .dataframe tbody tr th:only-of-type {\n",
              "        vertical-align: middle;\n",
              "    }\n",
              "\n",
              "    .dataframe tbody tr th {\n",
              "        vertical-align: top;\n",
              "    }\n",
              "\n",
              "    .dataframe thead th {\n",
              "        text-align: right;\n",
              "    }\n",
              "</style>\n",
              "<table border=\"1\" class=\"dataframe\">\n",
              "  <thead>\n",
              "    <tr style=\"text-align: right;\">\n",
              "      <th></th>\n",
              "      <th>0</th>\n",
              "    </tr>\n",
              "  </thead>\n",
              "  <tbody>\n",
              "    <tr>\n",
              "      <th>ID</th>\n",
              "      <td>0</td>\n",
              "    </tr>\n",
              "    <tr>\n",
              "      <th>Age</th>\n",
              "      <td>0</td>\n",
              "    </tr>\n",
              "    <tr>\n",
              "      <th>Experience</th>\n",
              "      <td>0</td>\n",
              "    </tr>\n",
              "    <tr>\n",
              "      <th>Income</th>\n",
              "      <td>0</td>\n",
              "    </tr>\n",
              "    <tr>\n",
              "      <th>ZIP.Code</th>\n",
              "      <td>0</td>\n",
              "    </tr>\n",
              "    <tr>\n",
              "      <th>Family</th>\n",
              "      <td>0</td>\n",
              "    </tr>\n",
              "    <tr>\n",
              "      <th>CCAvg</th>\n",
              "      <td>0</td>\n",
              "    </tr>\n",
              "    <tr>\n",
              "      <th>Education</th>\n",
              "      <td>0</td>\n",
              "    </tr>\n",
              "    <tr>\n",
              "      <th>Mortgage</th>\n",
              "      <td>0</td>\n",
              "    </tr>\n",
              "    <tr>\n",
              "      <th>Personal.Loan</th>\n",
              "      <td>0</td>\n",
              "    </tr>\n",
              "    <tr>\n",
              "      <th>Securities.Account</th>\n",
              "      <td>0</td>\n",
              "    </tr>\n",
              "    <tr>\n",
              "      <th>CD.Account</th>\n",
              "      <td>0</td>\n",
              "    </tr>\n",
              "    <tr>\n",
              "      <th>Online</th>\n",
              "      <td>0</td>\n",
              "    </tr>\n",
              "    <tr>\n",
              "      <th>CreditCard</th>\n",
              "      <td>0</td>\n",
              "    </tr>\n",
              "  </tbody>\n",
              "</table>\n",
              "</div><br><label><b>dtype:</b> int64</label>"
            ]
          },
          "metadata": {},
          "execution_count": 11
        }
      ]
    },
    {
      "cell_type": "markdown",
      "source": [
        "## 2.2 Check duplicates"
      ],
      "metadata": {
        "id": "RY20arqxT4LD",
        "papermill": {
          "duration": 0.017008,
          "end_time": "2024-05-02T21:18:14.469904",
          "exception": false,
          "start_time": "2024-05-02T21:18:14.452896",
          "status": "completed"
        },
        "tags": []
      }
    },
    {
      "cell_type": "code",
      "source": [
        "bank_loan.duplicated().sum()"
      ],
      "metadata": {
        "execution": {
          "iopub.execute_input": "2024-05-02T21:18:14.506439Z",
          "iopub.status.busy": "2024-05-02T21:18:14.505707Z",
          "iopub.status.idle": "2024-05-02T21:18:14.514896Z",
          "shell.execute_reply": "2024-05-02T21:18:14.513882Z"
        },
        "id": "aINQmAaGd9U_",
        "papermill": {
          "duration": 0.029807,
          "end_time": "2024-05-02T21:18:14.516979",
          "exception": false,
          "start_time": "2024-05-02T21:18:14.487172",
          "status": "completed"
        },
        "tags": [],
        "colab": {
          "base_uri": "https://localhost:8080/"
        },
        "outputId": "82af7ac7-f310-412b-cc91-6a26ff807c42"
      },
      "execution_count": null,
      "outputs": [
        {
          "output_type": "execute_result",
          "data": {
            "text/plain": [
              "np.int64(0)"
            ]
          },
          "metadata": {},
          "execution_count": 12
        }
      ]
    },
    {
      "cell_type": "markdown",
      "source": [
        "## 2.3 Explore the featrues and target variable"
      ],
      "metadata": {
        "id": "QFxN-GXWUCA0",
        "papermill": {
          "duration": 0.017087,
          "end_time": "2024-05-02T21:18:14.551458",
          "exception": false,
          "start_time": "2024-05-02T21:18:14.534371",
          "status": "completed"
        },
        "tags": []
      }
    },
    {
      "cell_type": "markdown",
      "source": [
        "According to the description of the dataset, ZIP.Code has a abonormally high standard deviation, it may contains outlier."
      ],
      "metadata": {
        "id": "n8h72g7EU9xm",
        "papermill": {
          "duration": 0.016919,
          "end_time": "2024-05-02T21:18:14.585768",
          "exception": false,
          "start_time": "2024-05-02T21:18:14.568849",
          "status": "completed"
        },
        "tags": []
      }
    },
    {
      "cell_type": "code",
      "source": [
        "sns.boxplot(bank_loan['ZIP.Code'])"
      ],
      "metadata": {
        "execution": {
          "iopub.execute_input": "2024-05-02T21:18:14.678158Z",
          "iopub.status.busy": "2024-05-02T21:18:14.677545Z",
          "iopub.status.idle": "2024-05-02T21:18:14.88277Z",
          "shell.execute_reply": "2024-05-02T21:18:14.881528Z"
        },
        "id": "_TexDvYhOPuG",
        "papermill": {
          "duration": 0.226726,
          "end_time": "2024-05-02T21:18:14.885258",
          "exception": false,
          "start_time": "2024-05-02T21:18:14.658532",
          "status": "completed"
        },
        "tags": [],
        "colab": {
          "base_uri": "https://localhost:8080/",
          "height": 430
        },
        "outputId": "627d3fcf-d267-447c-b9f7-bc005f00e1cf"
      },
      "execution_count": null,
      "outputs": [
        {
          "output_type": "execute_result",
          "data": {
            "text/plain": [
              "<Axes: ylabel='ZIP.Code'>"
            ]
          },
          "metadata": {},
          "execution_count": 13
        },
        {
          "output_type": "display_data",
          "data": {
            "text/plain": [
              "<Figure size 640x480 with 1 Axes>"
            ],
            "image/png": "[encoded data removed]"
          },
          "metadata": {}
        }
      ]
    },
    {
      "cell_type": "markdown",
      "source": [
        "We drop this outlier."
      ],
      "metadata": {
        "id": "TBaRnqYNVSC5",
        "papermill": {
          "duration": 0.017875,
          "end_time": "2024-05-02T21:18:14.921273",
          "exception": false,
          "start_time": "2024-05-02T21:18:14.903398",
          "status": "completed"
        },
        "tags": []
      }
    },
    {
      "cell_type": "code",
      "source": [
        "bank_loan.drop(bank_loan[bank_loan['ZIP.Code']==9307].index, axis=0, inplace=True)"
      ],
      "metadata": {
        "execution": {
          "iopub.execute_input": "2024-05-02T21:18:14.959182Z",
          "iopub.status.busy": "2024-05-02T21:18:14.958796Z",
          "iopub.status.idle": "2024-05-02T21:18:14.9678Z",
          "shell.execute_reply": "2024-05-02T21:18:14.966792Z"
        },
        "id": "18X9GwSfPpVk",
        "papermill": {
          "duration": 0.030639,
          "end_time": "2024-05-02T21:18:14.970011",
          "exception": false,
          "start_time": "2024-05-02T21:18:14.939372",
          "status": "completed"
        },
        "tags": []
      },
      "execution_count": null,
      "outputs": []
    },
    {
      "cell_type": "markdown",
      "source": [
        "Feature Mortagage also has a high sd, but the boxplot shows that there may be no outliers for this feature."
      ],
      "metadata": {
        "id": "clH0x0IGVZFx",
        "papermill": {
          "duration": 0.018424,
          "end_time": "2024-05-02T21:18:15.007139",
          "exception": false,
          "start_time": "2024-05-02T21:18:14.988715",
          "status": "completed"
        },
        "tags": []
      }
    },
    {
      "cell_type": "code",
      "source": [
        "sns.boxplot(bank_loan['Mortgage'])"
      ],
      "metadata": {
        "execution": {
          "iopub.execute_input": "2024-05-02T21:18:15.046253Z",
          "iopub.status.busy": "2024-05-02T21:18:15.045863Z",
          "iopub.status.idle": "2024-05-02T21:18:15.246426Z",
          "shell.execute_reply": "2024-05-02T21:18:15.245346Z"
        },
        "id": "jsX0Jr0uOQGC",
        "papermill": {
          "duration": 0.222963,
          "end_time": "2024-05-02T21:18:15.24902",
          "exception": false,
          "start_time": "2024-05-02T21:18:15.026057",
          "status": "completed"
        },
        "tags": [],
        "colab": {
          "base_uri": "https://localhost:8080/",
          "height": 428
        },
        "outputId": "a87034f9-a01a-4d40-85de-33456e5bb3d3"
      },
      "execution_count": null,
      "outputs": [
        {
          "output_type": "execute_result",
          "data": {
            "text/plain": [
              "<Axes: ylabel='Mortgage'>"
            ]
          },
          "metadata": {},
          "execution_count": 15
        },
        {
          "output_type": "display_data",
          "data": {
            "text/plain": [
              "<Figure size 640x480 with 1 Axes>"
            ],
            "image/png": "[encoded data removed]"
          },
          "metadata": {}
        }
      ]
    },
    {
      "cell_type": "markdown",
      "source": [
        "We also explore the target variable, we found that it is an imbalanced data. Next, we tried to deal with this issue."
      ],
      "metadata": {
        "id": "FrZ7dGLFV2JG",
        "papermill": {
          "duration": 0.018108,
          "end_time": "2024-05-02T21:18:15.286094",
          "exception": false,
          "start_time": "2024-05-02T21:18:15.267986",
          "status": "completed"
        },
        "tags": []
      }
    },
    {
      "cell_type": "code",
      "source": [
        "sns.countplot(x=bank_loan['Personal.Loan'])"
      ],
      "metadata": {
        "execution": {
          "iopub.execute_input": "2024-05-02T21:18:15.325001Z",
          "iopub.status.busy": "2024-05-02T21:18:15.324371Z",
          "iopub.status.idle": "2024-05-02T21:18:15.507428Z",
          "shell.execute_reply": "2024-05-02T21:18:15.506335Z"
        },
        "id": "-pyBRqY17Exg",
        "papermill": {
          "duration": 0.205414,
          "end_time": "2024-05-02T21:18:15.509861",
          "exception": false,
          "start_time": "2024-05-02T21:18:15.304447",
          "status": "completed"
        },
        "tags": [],
        "colab": {
          "base_uri": "https://localhost:8080/",
          "height": 466
        },
        "outputId": "4585702f-62a8-4310-e350-ee299840fbce"
      },
      "execution_count": null,
      "outputs": [
        {
          "output_type": "execute_result",
          "data": {
            "text/plain": [
              "<Axes: xlabel='Personal.Loan', ylabel='count'>"
            ]
          },
          "metadata": {},
          "execution_count": 16
        },
        {
          "output_type": "display_data",
          "data": {
            "text/plain": [
              "<Figure size 640x480 with 1 Axes>"
            ],
            "image/png": "[encoded data removed]"
          },
          "metadata": {}
        }
      ]
    },
    {
      "cell_type": "markdown",
      "source": [
        "## 2.4 Handel imbalanced dataset"
      ],
      "metadata": {
        "id": "sOA_PpiMWfh2",
        "papermill": {
          "duration": 0.01863,
          "end_time": "2024-05-02T21:18:15.547907",
          "exception": false,
          "start_time": "2024-05-02T21:18:15.529277",
          "status": "completed"
        },
        "tags": []
      }
    },
    {
      "cell_type": "code",
      "source": [
        "bank_loan.columns"
      ],
      "metadata": {
        "execution": {
          "iopub.execute_input": "2024-05-02T21:18:15.587481Z",
          "iopub.status.busy": "2024-05-02T21:18:15.587129Z",
          "iopub.status.idle": "2024-05-02T21:18:15.593564Z",
          "shell.execute_reply": "2024-05-02T21:18:15.592499Z"
        },
        "id": "6vX1esiIRAZ7",
        "papermill": {
          "duration": 0.029237,
          "end_time": "2024-05-02T21:18:15.595929",
          "exception": false,
          "start_time": "2024-05-02T21:18:15.566692",
          "status": "completed"
        },
        "tags": [],
        "colab": {
          "base_uri": "https://localhost:8080/"
        },
        "outputId": "c5ae422f-656d-4fbc-858a-6e15e0087ef5"
      },
      "execution_count": null,
      "outputs": [
        {
          "output_type": "execute_result",
          "data": {
            "text/plain": [
              "Index(['ID', 'Age', 'Experience', 'Income', 'ZIP.Code', 'Family', 'CCAvg',\n",
              "       'Education', 'Mortgage', 'Personal.Loan', 'Securities.Account',\n",
              "       'CD.Account', 'Online', 'CreditCard'],\n",
              "      dtype='object')"
            ]
          },
          "metadata": {},
          "execution_count": 17
        }
      ]
    },
    {
      "cell_type": "code",
      "source": [
        "X = bank_loan[['Age', 'Experience', 'Income', 'ZIP.Code', 'Family', 'CCAvg',\n",
        "       'Education', 'Mortgage', 'Securities.Account',\n",
        "       'CD.Account', 'Online', 'CreditCard']]\n",
        "y = bank_loan['Personal.Loan']"
      ],
      "metadata": {
        "execution": {
          "iopub.execute_input": "2024-05-02T21:18:15.63651Z",
          "iopub.status.busy": "2024-05-02T21:18:15.63579Z",
          "iopub.status.idle": "2024-05-02T21:18:15.642364Z",
          "shell.execute_reply": "2024-05-02T21:18:15.641257Z"
        },
        "id": "OzzA7JVLZDeR",
        "papermill": {
          "duration": 0.028944,
          "end_time": "2024-05-02T21:18:15.644381",
          "exception": false,
          "start_time": "2024-05-02T21:18:15.615437",
          "status": "completed"
        },
        "tags": []
      },
      "execution_count": null,
      "outputs": []
    },
    {
      "cell_type": "markdown",
      "source": [
        "We use Synthetic Minority Oversampling Technique to oversample the minority class"
      ],
      "metadata": {
        "id": "fpJ8J38obksw",
        "papermill": {
          "duration": 0.019076,
          "end_time": "2024-05-02T21:18:15.68296",
          "exception": false,
          "start_time": "2024-05-02T21:18:15.663884",
          "status": "completed"
        },
        "tags": []
      }
    },
    {
      "cell_type": "code",
      "source": [
        "smote = SMOTE(sampling_strategy='minority', random_state=101)\n",
        "X_oversample, y_oversample = smote.fit_resample(X, y)"
      ],
      "metadata": {
        "execution": {
          "iopub.execute_input": "2024-05-02T21:18:15.722679Z",
          "iopub.status.busy": "2024-05-02T21:18:15.722325Z",
          "iopub.status.idle": "2024-05-02T21:18:15.743739Z",
          "shell.execute_reply": "2024-05-02T21:18:15.742633Z"
        },
        "id": "PNy2XmxVM3bD",
        "papermill": {
          "duration": 0.044315,
          "end_time": "2024-05-02T21:18:15.746301",
          "exception": false,
          "start_time": "2024-05-02T21:18:15.701986",
          "status": "completed"
        },
        "tags": []
      },
      "execution_count": null,
      "outputs": []
    },
    {
      "cell_type": "code",
      "source": [
        "oversample = pd.concat([X_oversample, y_oversample], axis=1)\n",
        "X_oversample.info()"
      ],
      "metadata": {
        "execution": {
          "iopub.execute_input": "2024-05-02T21:18:15.786501Z",
          "iopub.status.busy": "2024-05-02T21:18:15.786117Z",
          "iopub.status.idle": "2024-05-02T21:18:15.799756Z",
          "shell.execute_reply": "2024-05-02T21:18:15.798719Z"
        },
        "id": "HvbmsCYbOQYl",
        "papermill": {
          "duration": 0.036206,
          "end_time": "2024-05-02T21:18:15.801805",
          "exception": false,
          "start_time": "2024-05-02T21:18:15.765599",
          "status": "completed"
        },
        "tags": [],
        "colab": {
          "base_uri": "https://localhost:8080/"
        },
        "outputId": "157a195a-881f-4bb3-9cdf-f9687da35648"
      },
      "execution_count": null,
      "outputs": [
        {
          "output_type": "stream",
          "name": "stdout",
          "text": [
            "<class 'pandas.core.frame.DataFrame'>\n",
            "RangeIndex: 9038 entries, 0 to 9037\n",
            "Data columns (total 12 columns):\n",
            " #   Column              Non-Null Count  Dtype  \n",
            "---  ------              --------------  -----  \n",
            " 0   Age                 9038 non-null   int64  \n",
            " 1   Experience          9038 non-null   int64  \n",
            " 2   Income              9038 non-null   int64  \n",
            " 3   ZIP.Code            9038 non-null   int64  \n",
            " 4   Family              9038 non-null   int64  \n",
            " 5   CCAvg               9038 non-null   float64\n",
            " 6   Education           9038 non-null   int64  \n",
            " 7   Mortgage            9038 non-null   int64  \n",
            " 8   Securities.Account  9038 non-null   int64  \n",
            " 9   CD.Account          9038 non-null   int64  \n",
            " 10  Online              9038 non-null   int64  \n",
            " 11  CreditCard          9038 non-null   int64  \n",
            "dtypes: float64(1), int64(11)\n",
            "memory usage: 847.4 KB\n"
          ]
        }
      ]
    },
    {
      "cell_type": "code",
      "source": [
        "sns.countplot(x=y_oversample)"
      ],
      "metadata": {
        "execution": {
          "iopub.execute_input": "2024-05-02T21:18:15.843478Z",
          "iopub.status.busy": "2024-05-02T21:18:15.84306Z",
          "iopub.status.idle": "2024-05-02T21:18:16.034932Z",
          "shell.execute_reply": "2024-05-02T21:18:16.033792Z"
        },
        "id": "ra5Z_zvocRGI",
        "papermill": {
          "duration": 0.214916,
          "end_time": "2024-05-02T21:18:16.037397",
          "exception": false,
          "start_time": "2024-05-02T21:18:15.822481",
          "status": "completed"
        },
        "tags": [],
        "colab": {
          "base_uri": "https://localhost:8080/",
          "height": 466
        },
        "outputId": "b652e6ae-2568-48a3-b78f-56815a0ddc5c"
      },
      "execution_count": null,
      "outputs": [
        {
          "output_type": "execute_result",
          "data": {
            "text/plain": [
              "<Axes: xlabel='Personal.Loan', ylabel='count'>"
            ]
          },
          "metadata": {},
          "execution_count": 22
        },
        {
          "output_type": "display_data",
          "data": {
            "text/plain": [
              "<Figure size 640x480 with 1 Axes>"
            ],
            "image/png": "[encoded data removed]"
          },
          "metadata": {}
        }
      ]
    },
    {
      "cell_type": "markdown",
      "source": [
        "# 3. Decision Tree"
      ],
      "metadata": {
        "id": "ZUgs8Sd-cITW",
        "papermill": {
          "duration": 0.020529,
          "end_time": "2024-05-02T21:18:16.078782",
          "exception": false,
          "start_time": "2024-05-02T21:18:16.058253",
          "status": "completed"
        },
        "tags": []
      }
    },
    {
      "cell_type": "markdown",
      "source": [
        "## 3.1 Splitting the dataset"
      ],
      "metadata": {
        "id": "WqaWt0GvdFz5",
        "papermill": {
          "duration": 0.0192,
          "end_time": "2024-05-02T21:18:16.117567",
          "exception": false,
          "start_time": "2024-05-02T21:18:16.098367",
          "status": "completed"
        },
        "tags": []
      }
    },
    {
      "cell_type": "code",
      "source": [
        "X_train, X_test, y_train, y_test = train_test_split(X_oversample, y_oversample, test_size=0.3, random_state=101)"
      ],
      "metadata": {
        "execution": {
          "iopub.execute_input": "2024-05-02T21:18:16.158592Z",
          "iopub.status.busy": "2024-05-02T21:18:16.158203Z",
          "iopub.status.idle": "2024-05-02T21:18:16.166916Z",
          "shell.execute_reply": "2024-05-02T21:18:16.166039Z"
        },
        "id": "m-iF9pZgWmZW",
        "papermill": {
          "duration": 0.031918,
          "end_time": "2024-05-02T21:18:16.169245",
          "exception": false,
          "start_time": "2024-05-02T21:18:16.137327",
          "status": "completed"
        },
        "tags": []
      },
      "execution_count": null,
      "outputs": []
    },
    {
      "cell_type": "markdown",
      "source": [
        "##3.2 Training and evaluating the model"
      ],
      "metadata": {
        "id": "V0qIrUBGdKiI",
        "papermill": {
          "duration": 0.019169,
          "end_time": "2024-05-02T21:18:16.207934",
          "exception": false,
          "start_time": "2024-05-02T21:18:16.188765",
          "status": "completed"
        },
        "tags": []
      }
    },
    {
      "cell_type": "code",
      "source": [
        "tree = DecisionTreeClassifier(random_state=101) # we set the random_state 101 to make sure the results are consistent and comparable"
      ],
      "metadata": {
        "execution": {
          "iopub.execute_input": "2024-05-02T21:18:16.249202Z",
          "iopub.status.busy": "2024-05-02T21:18:16.248097Z",
          "iopub.status.idle": "2024-05-02T21:18:16.252591Z",
          "shell.execute_reply": "2024-05-02T21:18:16.251869Z"
        },
        "id": "zHYzqxkLOQRV",
        "papermill": {
          "duration": 0.027103,
          "end_time": "2024-05-02T21:18:16.254508",
          "exception": false,
          "start_time": "2024-05-02T21:18:16.227405",
          "status": "completed"
        },
        "tags": []
      },
      "execution_count": null,
      "outputs": []
    },
    {
      "cell_type": "code",
      "source": [
        "tree.fit(X_train, y_train)"
      ],
      "metadata": {
        "execution": {
          "iopub.execute_input": "2024-05-02T21:18:16.295437Z",
          "iopub.status.busy": "2024-05-02T21:18:16.294367Z",
          "iopub.status.idle": "2024-05-02T21:18:16.326219Z",
          "shell.execute_reply": "2024-05-02T21:18:16.325206Z"
        },
        "id": "KUhzkDG1eqmF",
        "papermill": {
          "duration": 0.054709,
          "end_time": "2024-05-02T21:18:16.328548",
          "exception": false,
          "start_time": "2024-05-02T21:18:16.273839",
          "status": "completed"
        },
        "tags": [],
        "colab": {
          "base_uri": "https://localhost:8080/",
          "height": 80
        },
        "outputId": "ae16b0fc-2bf7-4e12-a46b-7fd9fd84e72f"
      },
      "execution_count": null,
      "outputs": [
        {
          "output_type": "execute_result",
          "data": {
            "text/plain": [
              "DecisionTreeClassifier(random_state=101)"
            ],
            "text/html": [
              "<style>#sk-container-id-1 {\n",
              "  /* Definition of color scheme common for light and dark mode */\n",
              "  --sklearn-color-text: #000;\n",
              "  --sklearn-color-text-muted: #666;\n",
              "  --sklearn-color-line: gray;\n",
              "  /* Definition of color scheme for unfitted estimators */\n",
              "  --sklearn-color-unfitted-level-0: #fff5e6;\n",
              "  --sklearn-color-unfitted-level-1: #f6e4d2;\n",
              "  --sklearn-color-unfitted-level-2: #ffe0b3;\n",
              "  --sklearn-color-unfitted-level-3: chocolate;\n",
              "  /* Definition of color scheme for fitted estimators */\n",
              "  --sklearn-color-fitted-level-0: #f0f8ff;\n",
              "  --sklearn-color-fitted-level-1: #d4ebff;\n",
              "  --sklearn-color-fitted-level-2: #b3dbfd;\n",
              "  --sklearn-color-fitted-level-3: cornflowerblue;\n",
              "\n",
              "  /* Specific color for light theme */\n",
              "  --sklearn-color-text-on-default-background: var(--sg-text-color, var(--theme-code-foreground, var(--jp-content-font-color1, black)));\n",
              "  --sklearn-color-background: var(--sg-background-color, var(--theme-background, var(--jp-layout-color0, white)));\n",
              "  --sklearn-color-border-box: var(--sg-text-color, var(--theme-code-foreground, var(--jp-content-font-color1, black)));\n",
              "  --sklearn-color-icon: #696969;\n",
              "\n",
              "  @media (prefers-color-scheme: dark) {\n",
              "    /* Redefinition of color scheme for dark theme */\n",
              "    --sklearn-color-text-on-default-background: var(--sg-text-color, var(--theme-code-foreground, var(--jp-content-font-color1, white)));\n",
              "    --sklearn-color-background: var(--sg-background-color, var(--theme-background, var(--jp-layout-color0, #111)));\n",
              "    --sklearn-color-border-box: var(--sg-text-color, var(--theme-code-foreground, var(--jp-content-font-color1, white)));\n",
              "    --sklearn-color-icon: #878787;\n",
              "  }\n",
              "}\n",
              "\n",
              "#sk-container-id-1 {\n",
              "  color: var(--sklearn-color-text);\n",
              "}\n",
              "\n",
              "#sk-container-id-1 pre {\n",
              "  padding: 0;\n",
              "}\n",
              "\n",
              "#sk-container-id-1 input.sk-hidden--visually {\n",
              "  border: 0;\n",
              "  clip: rect(1px 1px 1px 1px);\n",
              "  clip: rect(1px, 1px, 1px, 1px);\n",
              "  height: 1px;\n",
              "  margin: -1px;\n",
              "  overflow: hidden;\n",
              "  padding: 0;\n",
              "  position: absolute;\n",
              "  width: 1px;\n",
              "}\n",
              "\n",
              "#sk-container-id-1 div.sk-dashed-wrapped {\n",
              "  border: 1px dashed var(--sklearn-color-line);\n",
              "  margin: 0 0.4em 0.5em 0.4em;\n",
              "  box-sizing: border-box;\n",
              "  padding-bottom: 0.4em;\n",
              "  background-color: var(--sklearn-color-background);\n",
              "}\n",
              "\n",
              "#sk-container-id-1 div.sk-container {\n",
              "  /* jupyter's `normalize.less` sets `[hidden] { display: none; }`\n",
              "     but bootstrap.min.css set `[hidden] { display: none !important; }`\n",
              "     so we also need the `!important` here to be able to override the\n",
              "     default hidden behavior on the sphinx rendered scikit-learn.org.\n",
              "     See: https://github.com/scikit-learn/scikit-learn/issues/21755 */\n",
              "  display: inline-block !important;\n",
              "  position: relative;\n",
              "}\n",
              "\n",
              "#sk-container-id-1 div.sk-text-repr-fallback {\n",
              "  display: none;\n",
              "}\n",
              "\n",
              "div.sk-parallel-item,\n",
              "div.sk-serial,\n",
              "div.sk-item {\n",
              "  /* draw centered vertical line to link estimators */\n",
              "  background-image: linear-gradient(var(--sklearn-color-text-on-default-background), var(--sklearn-color-text-on-default-background));\n",
              "  background-size: 2px 100%;\n",
              "  background-repeat: no-repeat;\n",
              "  background-position: center center;\n",
              "}\n",
              "\n",
              "/* Parallel-specific style estimator block */\n",
              "\n",
              "#sk-container-id-1 div.sk-parallel-item::after {\n",
              "  content: \"\";\n",
              "  width: 100%;\n",
              "  border-bottom: 2px solid var(--sklearn-color-text-on-default-background);\n",
              "  flex-grow: 1;\n",
              "}\n",
              "\n",
              "#sk-container-id-1 div.sk-parallel {\n",
              "  display: flex;\n",
              "  align-items: stretch;\n",
              "  justify-content: center;\n",
              "  background-color: var(--sklearn-color-background);\n",
              "  position: relative;\n",
              "}\n",
              "\n",
              "#sk-container-id-1 div.sk-parallel-item {\n",
              "  display: flex;\n",
              "  flex-direction: column;\n",
              "}\n",
              "\n",
              "#sk-container-id-1 div.sk-parallel-item:first-child::after {\n",
              "  align-self: flex-end;\n",
              "  width: 50%;\n",
              "}\n",
              "\n",
              "#sk-container-id-1 div.sk-parallel-item:last-child::after {\n",
              "  align-self: flex-start;\n",
              "  width: 50%;\n",
              "}\n",
              "\n",
              "#sk-container-id-1 div.sk-parallel-item:only-child::after {\n",
              "  width: 0;\n",
              "}\n",
              "\n",
              "/* Serial-specific style estimator block */\n",
              "\n",
              "#sk-container-id-1 div.sk-serial {\n",
              "  display: flex;\n",
              "  flex-direction: column;\n",
              "  align-items: center;\n",
              "  background-color: var(--sklearn-color-background);\n",
              "  padding-right: 1em;\n",
              "  padding-left: 1em;\n",
              "}\n",
              "\n",
              "\n",
              "/* Toggleable style: style used for estimator/Pipeline/ColumnTransformer box that is\n",
              "clickable and can be expanded/collapsed.\n",
              "- Pipeline and ColumnTransformer use this feature and define the default style\n",
              "- Estimators will overwrite some part of the style using the `sk-estimator` class\n",
              "*/\n",
              "\n",
              "/* Pipeline and ColumnTransformer style (default) */\n",
              "\n",
              "#sk-container-id-1 div.sk-toggleable {\n",
              "  /* Default theme specific background. It is overwritten whether we have a\n",
              "  specific estimator or a Pipeline/ColumnTransformer */\n",
              "  background-color: var(--sklearn-color-background);\n",
              "}\n",
              "\n",
              "/* Toggleable label */\n",
              "#sk-container-id-1 label.sk-toggleable__label {\n",
              "  cursor: pointer;\n",
              "  display: flex;\n",
              "  width: 100%;\n",
              "  margin-bottom: 0;\n",
              "  padding: 0.5em;\n",
              "  box-sizing: border-box;\n",
              "  text-align: center;\n",
              "  align-items: start;\n",
              "  justify-content: space-between;\n",
              "  gap: 0.5em;\n",
              "}\n",
              "\n",
              "#sk-container-id-1 label.sk-toggleable__label .caption {\n",
              "  font-size: 0.6rem;\n",
              "  font-weight: lighter;\n",
              "  color: var(--sklearn-color-text-muted);\n",
              "}\n",
              "\n",
              "#sk-container-id-1 label.sk-toggleable__label-arrow:before {\n",
              "  /* Arrow on the left of the label */\n",
              "  content: \"▸\";\n",
              "  float: left;\n",
              "  margin-right: 0.25em;\n",
              "  color: var(--sklearn-color-icon);\n",
              "}\n",
              "\n",
              "#sk-container-id-1 label.sk-toggleable__label-arrow:hover:before {\n",
              "  color: var(--sklearn-color-text);\n",
              "}\n",
              "\n",
              "/* Toggleable content - dropdown */\n",
              "\n",
              "#sk-container-id-1 div.sk-toggleable__content {\n",
              "  max-height: 0;\n",
              "  max-width: 0;\n",
              "  overflow: hidden;\n",
              "  text-align: left;\n",
              "  /* unfitted */\n",
              "  background-color: var(--sklearn-color-unfitted-level-0);\n",
              "}\n",
              "\n",
              "#sk-container-id-1 div.sk-toggleable__content.fitted {\n",
              "  /* fitted */\n",
              "  background-color: var(--sklearn-color-fitted-level-0);\n",
              "}\n",
              "\n",
              "#sk-container-id-1 div.sk-toggleable__content pre {\n",
              "  margin: 0.2em;\n",
              "  border-radius: 0.25em;\n",
              "  color: var(--sklearn-color-text);\n",
              "  /* unfitted */\n",
              "  background-color: var(--sklearn-color-unfitted-level-0);\n",
              "}\n",
              "\n",
              "#sk-container-id-1 div.sk-toggleable__content.fitted pre {\n",
              "  /* unfitted */\n",
              "  background-color: var(--sklearn-color-fitted-level-0);\n",
              "}\n",
              "\n",
              "#sk-container-id-1 input.sk-toggleable__control:checked~div.sk-toggleable__content {\n",
              "  /* Expand drop-down */\n",
              "  max-height: 200px;\n",
              "  max-width: 100%;\n",
              "  overflow: auto;\n",
              "}\n",
              "\n",
              "#sk-container-id-1 input.sk-toggleable__control:checked~label.sk-toggleable__label-arrow:before {\n",
              "  content: \"▾\";\n",
              "}\n",
              "\n",
              "/* Pipeline/ColumnTransformer-specific style */\n",
              "\n",
              "#sk-container-id-1 div.sk-label input.sk-toggleable__control:checked~label.sk-toggleable__label {\n",
              "  color: var(--sklearn-color-text);\n",
              "  background-color: var(--sklearn-color-unfitted-level-2);\n",
              "}\n",
              "\n",
              "#sk-container-id-1 div.sk-label.fitted input.sk-toggleable__control:checked~label.sk-toggleable__label {\n",
              "  background-color: var(--sklearn-color-fitted-level-2);\n",
              "}\n",
              "\n",
              "/* Estimator-specific style */\n",
              "\n",
              "/* Colorize estimator box */\n",
              "#sk-container-id-1 div.sk-estimator input.sk-toggleable__control:checked~label.sk-toggleable__label {\n",
              "  /* unfitted */\n",
              "  background-color: var(--sklearn-color-unfitted-level-2);\n",
              "}\n",
              "\n",
              "#sk-container-id-1 div.sk-estimator.fitted input.sk-toggleable__control:checked~label.sk-toggleable__label {\n",
              "  /* fitted */\n",
              "  background-color: var(--sklearn-color-fitted-level-2);\n",
              "}\n",
              "\n",
              "#sk-container-id-1 div.sk-label label.sk-toggleable__label,\n",
              "#sk-container-id-1 div.sk-label label {\n",
              "  /* The background is the default theme color */\n",
              "  color: var(--sklearn-color-text-on-default-background);\n",
              "}\n",
              "\n",
              "/* On hover, darken the color of the background */\n",
              "#sk-container-id-1 div.sk-label:hover label.sk-toggleable__label {\n",
              "  color: var(--sklearn-color-text);\n",
              "  background-color: var(--sklearn-color-unfitted-level-2);\n",
              "}\n",
              "\n",
              "/* Label box, darken color on hover, fitted */\n",
              "#sk-container-id-1 div.sk-label.fitted:hover label.sk-toggleable__label.fitted {\n",
              "  color: var(--sklearn-color-text);\n",
              "  background-color: var(--sklearn-color-fitted-level-2);\n",
              "}\n",
              "\n",
              "/* Estimator label */\n",
              "\n",
              "#sk-container-id-1 div.sk-label label {\n",
              "  font-family: monospace;\n",
              "  font-weight: bold;\n",
              "  display: inline-block;\n",
              "  line-height: 1.2em;\n",
              "}\n",
              "\n",
              "#sk-container-id-1 div.sk-label-container {\n",
              "  text-align: center;\n",
              "}\n",
              "\n",
              "/* Estimator-specific */\n",
              "#sk-container-id-1 div.sk-estimator {\n",
              "  font-family: monospace;\n",
              "  border: 1px dotted var(--sklearn-color-border-box);\n",
              "  border-radius: 0.25em;\n",
              "  box-sizing: border-box;\n",
              "  margin-bottom: 0.5em;\n",
              "  /* unfitted */\n",
              "  background-color: var(--sklearn-color-unfitted-level-0);\n",
              "}\n",
              "\n",
              "#sk-container-id-1 div.sk-estimator.fitted {\n",
              "  /* fitted */\n",
              "  background-color: var(--sklearn-color-fitted-level-0);\n",
              "}\n",
              "\n",
              "/* on hover */\n",
              "#sk-container-id-1 div.sk-estimator:hover {\n",
              "  /* unfitted */\n",
              "  background-color: var(--sklearn-color-unfitted-level-2);\n",
              "}\n",
              "\n",
              "#sk-container-id-1 div.sk-estimator.fitted:hover {\n",
              "  /* fitted */\n",
              "  background-color: var(--sklearn-color-fitted-level-2);\n",
              "}\n",
              "\n",
              "/* Specification for estimator info (e.g. \"i\" and \"?\") */\n",
              "\n",
              "/* Common style for \"i\" and \"?\" */\n",
              "\n",
              ".sk-estimator-doc-link,\n",
              "a:link.sk-estimator-doc-link,\n",
              "a:visited.sk-estimator-doc-link {\n",
              "  float: right;\n",
              "  font-size: smaller;\n",
              "  line-height: 1em;\n",
              "  font-family: monospace;\n",
              "  background-color: var(--sklearn-color-background);\n",
              "  border-radius: 1em;\n",
              "  height: 1em;\n",
              "  width: 1em;\n",
              "  text-decoration: none !important;\n",
              "  margin-left: 0.5em;\n",
              "  text-align: center;\n",
              "  /* unfitted */\n",
              "  border: var(--sklearn-color-unfitted-level-1) 1pt solid;\n",
              "  color: var(--sklearn-color-unfitted-level-1);\n",
              "}\n",
              "\n",
              ".sk-estimator-doc-link.fitted,\n",
              "a:link.sk-estimator-doc-link.fitted,\n",
              "a:visited.sk-estimator-doc-link.fitted {\n",
              "  /* fitted */\n",
              "  border: var(--sklearn-color-fitted-level-1) 1pt solid;\n",
              "  color: var(--sklearn-color-fitted-level-1);\n",
              "}\n",
              "\n",
              "/* On hover */\n",
              "div.sk-estimator:hover .sk-estimator-doc-link:hover,\n",
              ".sk-estimator-doc-link:hover,\n",
              "div.sk-label-container:hover .sk-estimator-doc-link:hover,\n",
              ".sk-estimator-doc-link:hover {\n",
              "  /* unfitted */\n",
              "  background-color: var(--sklearn-color-unfitted-level-3);\n",
              "  color: var(--sklearn-color-background);\n",
              "  text-decoration: none;\n",
              "}\n",
              "\n",
              "div.sk-estimator.fitted:hover .sk-estimator-doc-link.fitted:hover,\n",
              ".sk-estimator-doc-link.fitted:hover,\n",
              "div.sk-label-container:hover .sk-estimator-doc-link.fitted:hover,\n",
              ".sk-estimator-doc-link.fitted:hover {\n",
              "  /* fitted */\n",
              "  background-color: var(--sklearn-color-fitted-level-3);\n",
              "  color: var(--sklearn-color-background);\n",
              "  text-decoration: none;\n",
              "}\n",
              "\n",
              "/* Span, style for the box shown on hovering the info icon */\n",
              ".sk-estimator-doc-link span {\n",
              "  display: none;\n",
              "  z-index: 9999;\n",
              "  position: relative;\n",
              "  font-weight: normal;\n",
              "  right: .2ex;\n",
              "  padding: .5ex;\n",
              "  margin: .5ex;\n",
              "  width: min-content;\n",
              "  min-width: 20ex;\n",
              "  max-width: 50ex;\n",
              "  color: var(--sklearn-color-text);\n",
              "  box-shadow: 2pt 2pt 4pt #999;\n",
              "  /* unfitted */\n",
              "  background: var(--sklearn-color-unfitted-level-0);\n",
              "  border: .5pt solid var(--sklearn-color-unfitted-level-3);\n",
              "}\n",
              "\n",
              ".sk-estimator-doc-link.fitted span {\n",
              "  /* fitted */\n",
              "  background: var(--sklearn-color-fitted-level-0);\n",
              "  border: var(--sklearn-color-fitted-level-3);\n",
              "}\n",
              "\n",
              ".sk-estimator-doc-link:hover span {\n",
              "  display: block;\n",
              "}\n",
              "\n",
              "/* \"?\"-specific style due to the `<a>` HTML tag */\n",
              "\n",
              "#sk-container-id-1 a.estimator_doc_link {\n",
              "  float: right;\n",
              "  font-size: 1rem;\n",
              "  line-height: 1em;\n",
              "  font-family: monospace;\n",
              "  background-color: var(--sklearn-color-background);\n",
              "  border-radius: 1rem;\n",
              "  height: 1rem;\n",
              "  width: 1rem;\n",
              "  text-decoration: none;\n",
              "  /* unfitted */\n",
              "  color: var(--sklearn-color-unfitted-level-1);\n",
              "  border: var(--sklearn-color-unfitted-level-1) 1pt solid;\n",
              "}\n",
              "\n",
              "#sk-container-id-1 a.estimator_doc_link.fitted {\n",
              "  /* fitted */\n",
              "  border: var(--sklearn-color-fitted-level-1) 1pt solid;\n",
              "  color: var(--sklearn-color-fitted-level-1);\n",
              "}\n",
              "\n",
              "/* On hover */\n",
              "#sk-container-id-1 a.estimator_doc_link:hover {\n",
              "  /* unfitted */\n",
              "  background-color: var(--sklearn-color-unfitted-level-3);\n",
              "  color: var(--sklearn-color-background);\n",
              "  text-decoration: none;\n",
              "}\n",
              "\n",
              "#sk-container-id-1 a.estimator_doc_link.fitted:hover {\n",
              "  /* fitted */\n",
              "  background-color: var(--sklearn-color-fitted-level-3);\n",
              "}\n",
              "</style><div id=\"sk-container-id-1\" class=\"sk-top-container\"><div class=\"sk-text-repr-fallback\"><pre>DecisionTreeClassifier(random_state=101)</pre><b>In a Jupyter environment, please rerun this cell to show the HTML representation or trust the notebook. <br />On GitHub, the HTML representation is unable to render, please try loading this page with nbviewer.org.</b></div><div class=\"sk-container\" hidden><div class=\"sk-item\"><div class=\"sk-estimator fitted sk-toggleable\"><input class=\"sk-toggleable__control sk-hidden--visually\" id=\"sk-estimator-id-1\" type=\"checkbox\" checked><label for=\"sk-estimator-id-1\" class=\"sk-toggleable__label fitted sk-toggleable__label-arrow\"><div><div>DecisionTreeClassifier</div></div><div><a class=\"sk-estimator-doc-link fitted\" rel=\"noreferrer\" target=\"_blank\" href=\"https://scikit-learn.org/1.6/modules/generated/sklearn.tree.DecisionTreeClassifier.html\">?<span>Documentation for DecisionTreeClassifier</span></a><span class=\"sk-estimator-doc-link fitted\">i<span>Fitted</span></span></div></label><div class=\"sk-toggleable__content fitted\"><pre>DecisionTreeClassifier(random_state=101)</pre></div> </div></div></div></div>"
            ]
          },
          "metadata": {},
          "execution_count": 25
        }
      ]
    },
    {
      "cell_type": "code",
      "source": [
        "predictions = tree.predict(X_test)"
      ],
      "metadata": {
        "execution": {
          "iopub.execute_input": "2024-05-02T21:18:16.370599Z",
          "iopub.status.busy": "2024-05-02T21:18:16.370219Z",
          "iopub.status.idle": "2024-05-02T21:18:16.376795Z",
          "shell.execute_reply": "2024-05-02T21:18:16.375891Z"
        },
        "id": "Z-7VakjeXAWi",
        "papermill": {
          "duration": 0.030591,
          "end_time": "2024-05-02T21:18:16.378953",
          "exception": false,
          "start_time": "2024-05-02T21:18:16.348362",
          "status": "completed"
        },
        "tags": []
      },
      "execution_count": null,
      "outputs": []
    },
    {
      "cell_type": "code",
      "source": [
        "print(classification_report(y_test, predictions))"
      ],
      "metadata": {
        "execution": {
          "iopub.execute_input": "2024-05-02T21:18:16.420154Z",
          "iopub.status.busy": "2024-05-02T21:18:16.419758Z",
          "iopub.status.idle": "2024-05-02T21:18:16.437633Z",
          "shell.execute_reply": "2024-05-02T21:18:16.435991Z"
        },
        "id": "BfO606NuXJz5",
        "papermill": {
          "duration": 0.040811,
          "end_time": "2024-05-02T21:18:16.43971",
          "exception": false,
          "start_time": "2024-05-02T21:18:16.398899",
          "status": "completed"
        },
        "tags": [],
        "colab": {
          "base_uri": "https://localhost:8080/"
        },
        "outputId": "9d9d6f0e-88e0-423e-84e0-2deee8ef3585"
      },
      "execution_count": null,
      "outputs": [
        {
          "output_type": "stream",
          "name": "stdout",
          "text": [
            "              precision    recall  f1-score   support\n",
            "\n",
            "           0       0.98      0.96      0.97      1361\n",
            "           1       0.96      0.98      0.97      1351\n",
            "\n",
            "    accuracy                           0.97      2712\n",
            "   macro avg       0.97      0.97      0.97      2712\n",
            "weighted avg       0.97      0.97      0.97      2712\n",
            "\n"
          ]
        }
      ]
    },
    {
      "cell_type": "markdown",
      "source": [
        "We also would like to know the differences between imbalanced dataset and balanced dataset"
      ],
      "metadata": {
        "id": "phu3ndundpbL",
        "papermill": {
          "duration": 0.020409,
          "end_time": "2024-05-02T21:18:16.480431",
          "exception": false,
          "start_time": "2024-05-02T21:18:16.460022",
          "status": "completed"
        },
        "tags": []
      }
    },
    {
      "cell_type": "code",
      "source": [
        "X_train, X_test, y_train, y_test = train_test_split(X, y, test_size=0.3, random_state=101)"
      ],
      "metadata": {
        "execution": {
          "iopub.execute_input": "2024-05-02T21:18:16.522392Z",
          "iopub.status.busy": "2024-05-02T21:18:16.521377Z",
          "iopub.status.idle": "2024-05-02T21:18:16.528851Z",
          "shell.execute_reply": "2024-05-02T21:18:16.527841Z"
        },
        "id": "BQNG9RzzXYAY",
        "papermill": {
          "duration": 0.030909,
          "end_time": "2024-05-02T21:18:16.531223",
          "exception": false,
          "start_time": "2024-05-02T21:18:16.500314",
          "status": "completed"
        },
        "tags": []
      },
      "execution_count": null,
      "outputs": []
    },
    {
      "cell_type": "code",
      "source": [
        "tree.fit(X_train, y_train)"
      ],
      "metadata": {
        "execution": {
          "iopub.execute_input": "2024-05-02T21:18:16.5727Z",
          "iopub.status.busy": "2024-05-02T21:18:16.571643Z",
          "iopub.status.idle": "2024-05-02T21:18:16.587953Z",
          "shell.execute_reply": "2024-05-02T21:18:16.586771Z"
        },
        "id": "djOiQzinZao5",
        "papermill": {
          "duration": 0.039375,
          "end_time": "2024-05-02T21:18:16.590306",
          "exception": false,
          "start_time": "2024-05-02T21:18:16.550931",
          "status": "completed"
        },
        "tags": [],
        "colab": {
          "base_uri": "https://localhost:8080/",
          "height": 80
        },
        "outputId": "9c4f26f7-930e-47d0-c11b-abcc48bfe025"
      },
      "execution_count": null,
      "outputs": [
        {
          "output_type": "execute_result",
          "data": {
            "text/plain": [
              "DecisionTreeClassifier(random_state=101)"
            ],
            "text/html": [
              "<style>#sk-container-id-2 {\n",
              "  /* Definition of color scheme common for light and dark mode */\n",
              "  --sklearn-color-text: #000;\n",
              "  --sklearn-color-text-muted: #666;\n",
              "  --sklearn-color-line: gray;\n",
              "  /* Definition of color scheme for unfitted estimators */\n",
              "  --sklearn-color-unfitted-level-0: #fff5e6;\n",
              "  --sklearn-color-unfitted-level-1: #f6e4d2;\n",
              "  --sklearn-color-unfitted-level-2: #ffe0b3;\n",
              "  --sklearn-color-unfitted-level-3: chocolate;\n",
              "  /* Definition of color scheme for fitted estimators */\n",
              "  --sklearn-color-fitted-level-0: #f0f8ff;\n",
              "  --sklearn-color-fitted-level-1: #d4ebff;\n",
              "  --sklearn-color-fitted-level-2: #b3dbfd;\n",
              "  --sklearn-color-fitted-level-3: cornflowerblue;\n",
              "\n",
              "  /* Specific color for light theme */\n",
              "  --sklearn-color-text-on-default-background: var(--sg-text-color, var(--theme-code-foreground, var(--jp-content-font-color1, black)));\n",
              "  --sklearn-color-background: var(--sg-background-color, var(--theme-background, var(--jp-layout-color0, white)));\n",
              "  --sklearn-color-border-box: var(--sg-text-color, var(--theme-code-foreground, var(--jp-content-font-color1, black)));\n",
              "  --sklearn-color-icon: #696969;\n",
              "\n",
              "  @media (prefers-color-scheme: dark) {\n",
              "    /* Redefinition of color scheme for dark theme */\n",
              "    --sklearn-color-text-on-default-background: var(--sg-text-color, var(--theme-code-foreground, var(--jp-content-font-color1, white)));\n",
              "    --sklearn-color-background: var(--sg-background-color, var(--theme-background, var(--jp-layout-color0, #111)));\n",
              "    --sklearn-color-border-box: var(--sg-text-color, var(--theme-code-foreground, var(--jp-content-font-color1, white)));\n",
              "    --sklearn-color-icon: #878787;\n",
              "  }\n",
              "}\n",
              "\n",
              "#sk-container-id-2 {\n",
              "  color: var(--sklearn-color-text);\n",
              "}\n",
              "\n",
              "#sk-container-id-2 pre {\n",
              "  padding: 0;\n",
              "}\n",
              "\n",
              "#sk-container-id-2 input.sk-hidden--visually {\n",
              "  border: 0;\n",
              "  clip: rect(1px 1px 1px 1px);\n",
              "  clip: rect(1px, 1px, 1px, 1px);\n",
              "  height: 1px;\n",
              "  margin: -1px;\n",
              "  overflow: hidden;\n",
              "  padding: 0;\n",
              "  position: absolute;\n",
              "  width: 1px;\n",
              "}\n",
              "\n",
              "#sk-container-id-2 div.sk-dashed-wrapped {\n",
              "  border: 1px dashed var(--sklearn-color-line);\n",
              "  margin: 0 0.4em 0.5em 0.4em;\n",
              "  box-sizing: border-box;\n",
              "  padding-bottom: 0.4em;\n",
              "  background-color: var(--sklearn-color-background);\n",
              "}\n",
              "\n",
              "#sk-container-id-2 div.sk-container {\n",
              "  /* jupyter's `normalize.less` sets `[hidden] { display: none; }`\n",
              "     but bootstrap.min.css set `[hidden] { display: none !important; }`\n",
              "     so we also need the `!important` here to be able to override the\n",
              "     default hidden behavior on the sphinx rendered scikit-learn.org.\n",
              "     See: https://github.com/scikit-learn/scikit-learn/issues/21755 */\n",
              "  display: inline-block !important;\n",
              "  position: relative;\n",
              "}\n",
              "\n",
              "#sk-container-id-2 div.sk-text-repr-fallback {\n",
              "  display: none;\n",
              "}\n",
              "\n",
              "div.sk-parallel-item,\n",
              "div.sk-serial,\n",
              "div.sk-item {\n",
              "  /* draw centered vertical line to link estimators */\n",
              "  background-image: linear-gradient(var(--sklearn-color-text-on-default-background), var(--sklearn-color-text-on-default-background));\n",
              "  background-size: 2px 100%;\n",
              "  background-repeat: no-repeat;\n",
              "  background-position: center center;\n",
              "}\n",
              "\n",
              "/* Parallel-specific style estimator block */\n",
              "\n",
              "#sk-container-id-2 div.sk-parallel-item::after {\n",
              "  content: \"\";\n",
              "  width: 100%;\n",
              "  border-bottom: 2px solid var(--sklearn-color-text-on-default-background);\n",
              "  flex-grow: 1;\n",
              "}\n",
              "\n",
              "#sk-container-id-2 div.sk-parallel {\n",
              "  display: flex;\n",
              "  align-items: stretch;\n",
              "  justify-content: center;\n",
              "  background-color: var(--sklearn-color-background);\n",
              "  position: relative;\n",
              "}\n",
              "\n",
              "#sk-container-id-2 div.sk-parallel-item {\n",
              "  display: flex;\n",
              "  flex-direction: column;\n",
              "}\n",
              "\n",
              "#sk-container-id-2 div.sk-parallel-item:first-child::after {\n",
              "  align-self: flex-end;\n",
              "  width: 50%;\n",
              "}\n",
              "\n",
              "#sk-container-id-2 div.sk-parallel-item:last-child::after {\n",
              "  align-self: flex-start;\n",
              "  width: 50%;\n",
              "}\n",
              "\n",
              "#sk-container-id-2 div.sk-parallel-item:only-child::after {\n",
              "  width: 0;\n",
              "}\n",
              "\n",
              "/* Serial-specific style estimator block */\n",
              "\n",
              "#sk-container-id-2 div.sk-serial {\n",
              "  display: flex;\n",
              "  flex-direction: column;\n",
              "  align-items: center;\n",
              "  background-color: var(--sklearn-color-background);\n",
              "  padding-right: 1em;\n",
              "  padding-left: 1em;\n",
              "}\n",
              "\n",
              "\n",
              "/* Toggleable style: style used for estimator/Pipeline/ColumnTransformer box that is\n",
              "clickable and can be expanded/collapsed.\n",
              "- Pipeline and ColumnTransformer use this feature and define the default style\n",
              "- Estimators will overwrite some part of the style using the `sk-estimator` class\n",
              "*/\n",
              "\n",
              "/* Pipeline and ColumnTransformer style (default) */\n",
              "\n",
              "#sk-container-id-2 div.sk-toggleable {\n",
              "  /* Default theme specific background. It is overwritten whether we have a\n",
              "  specific estimator or a Pipeline/ColumnTransformer */\n",
              "  background-color: var(--sklearn-color-background);\n",
              "}\n",
              "\n",
              "/* Toggleable label */\n",
              "#sk-container-id-2 label.sk-toggleable__label {\n",
              "  cursor: pointer;\n",
              "  display: flex;\n",
              "  width: 100%;\n",
              "  margin-bottom: 0;\n",
              "  padding: 0.5em;\n",
              "  box-sizing: border-box;\n",
              "  text-align: center;\n",
              "  align-items: start;\n",
              "  justify-content: space-between;\n",
              "  gap: 0.5em;\n",
              "}\n",
              "\n",
              "#sk-container-id-2 label.sk-toggleable__label .caption {\n",
              "  font-size: 0.6rem;\n",
              "  font-weight: lighter;\n",
              "  color: var(--sklearn-color-text-muted);\n",
              "}\n",
              "\n",
              "#sk-container-id-2 label.sk-toggleable__label-arrow:before {\n",
              "  /* Arrow on the left of the label */\n",
              "  content: \"▸\";\n",
              "  float: left;\n",
              "  margin-right: 0.25em;\n",
              "  color: var(--sklearn-color-icon);\n",
              "}\n",
              "\n",
              "#sk-container-id-2 label.sk-toggleable__label-arrow:hover:before {\n",
              "  color: var(--sklearn-color-text);\n",
              "}\n",
              "\n",
              "/* Toggleable content - dropdown */\n",
              "\n",
              "#sk-container-id-2 div.sk-toggleable__content {\n",
              "  max-height: 0;\n",
              "  max-width: 0;\n",
              "  overflow: hidden;\n",
              "  text-align: left;\n",
              "  /* unfitted */\n",
              "  background-color: var(--sklearn-color-unfitted-level-0);\n",
              "}\n",
              "\n",
              "#sk-container-id-2 div.sk-toggleable__content.fitted {\n",
              "  /* fitted */\n",
              "  background-color: var(--sklearn-color-fitted-level-0);\n",
              "}\n",
              "\n",
              "#sk-container-id-2 div.sk-toggleable__content pre {\n",
              "  margin: 0.2em;\n",
              "  border-radius: 0.25em;\n",
              "  color: var(--sklearn-color-text);\n",
              "  /* unfitted */\n",
              "  background-color: var(--sklearn-color-unfitted-level-0);\n",
              "}\n",
              "\n",
              "#sk-container-id-2 div.sk-toggleable__content.fitted pre {\n",
              "  /* unfitted */\n",
              "  background-color: var(--sklearn-color-fitted-level-0);\n",
              "}\n",
              "\n",
              "#sk-container-id-2 input.sk-toggleable__control:checked~div.sk-toggleable__content {\n",
              "  /* Expand drop-down */\n",
              "  max-height: 200px;\n",
              "  max-width: 100%;\n",
              "  overflow: auto;\n",
              "}\n",
              "\n",
              "#sk-container-id-2 input.sk-toggleable__control:checked~label.sk-toggleable__label-arrow:before {\n",
              "  content: \"▾\";\n",
              "}\n",
              "\n",
              "/* Pipeline/ColumnTransformer-specific style */\n",
              "\n",
              "#sk-container-id-2 div.sk-label input.sk-toggleable__control:checked~label.sk-toggleable__label {\n",
              "  color: var(--sklearn-color-text);\n",
              "  background-color: var(--sklearn-color-unfitted-level-2);\n",
              "}\n",
              "\n",
              "#sk-container-id-2 div.sk-label.fitted input.sk-toggleable__control:checked~label.sk-toggleable__label {\n",
              "  background-color: var(--sklearn-color-fitted-level-2);\n",
              "}\n",
              "\n",
              "/* Estimator-specific style */\n",
              "\n",
              "/* Colorize estimator box */\n",
              "#sk-container-id-2 div.sk-estimator input.sk-toggleable__control:checked~label.sk-toggleable__label {\n",
              "  /* unfitted */\n",
              "  background-color: var(--sklearn-color-unfitted-level-2);\n",
              "}\n",
              "\n",
              "#sk-container-id-2 div.sk-estimator.fitted input.sk-toggleable__control:checked~label.sk-toggleable__label {\n",
              "  /* fitted */\n",
              "  background-color: var(--sklearn-color-fitted-level-2);\n",
              "}\n",
              "\n",
              "#sk-container-id-2 div.sk-label label.sk-toggleable__label,\n",
              "#sk-container-id-2 div.sk-label label {\n",
              "  /* The background is the default theme color */\n",
              "  color: var(--sklearn-color-text-on-default-background);\n",
              "}\n",
              "\n",
              "/* On hover, darken the color of the background */\n",
              "#sk-container-id-2 div.sk-label:hover label.sk-toggleable__label {\n",
              "  color: var(--sklearn-color-text);\n",
              "  background-color: var(--sklearn-color-unfitted-level-2);\n",
              "}\n",
              "\n",
              "/* Label box, darken color on hover, fitted */\n",
              "#sk-container-id-2 div.sk-label.fitted:hover label.sk-toggleable__label.fitted {\n",
              "  color: var(--sklearn-color-text);\n",
              "  background-color: var(--sklearn-color-fitted-level-2);\n",
              "}\n",
              "\n",
              "/* Estimator label */\n",
              "\n",
              "#sk-container-id-2 div.sk-label label {\n",
              "  font-family: monospace;\n",
              "  font-weight: bold;\n",
              "  display: inline-block;\n",
              "  line-height: 1.2em;\n",
              "}\n",
              "\n",
              "#sk-container-id-2 div.sk-label-container {\n",
              "  text-align: center;\n",
              "}\n",
              "\n",
              "/* Estimator-specific */\n",
              "#sk-container-id-2 div.sk-estimator {\n",
              "  font-family: monospace;\n",
              "  border: 1px dotted var(--sklearn-color-border-box);\n",
              "  border-radius: 0.25em;\n",
              "  box-sizing: border-box;\n",
              "  margin-bottom: 0.5em;\n",
              "  /* unfitted */\n",
              "  background-color: var(--sklearn-color-unfitted-level-0);\n",
              "}\n",
              "\n",
              "#sk-container-id-2 div.sk-estimator.fitted {\n",
              "  /* fitted */\n",
              "  background-color: var(--sklearn-color-fitted-level-0);\n",
              "}\n",
              "\n",
              "/* on hover */\n",
              "#sk-container-id-2 div.sk-estimator:hover {\n",
              "  /* unfitted */\n",
              "  background-color: var(--sklearn-color-unfitted-level-2);\n",
              "}\n",
              "\n",
              "#sk-container-id-2 div.sk-estimator.fitted:hover {\n",
              "  /* fitted */\n",
              "  background-color: var(--sklearn-color-fitted-level-2);\n",
              "}\n",
              "\n",
              "/* Specification for estimator info (e.g. \"i\" and \"?\") */\n",
              "\n",
              "/* Common style for \"i\" and \"?\" */\n",
              "\n",
              ".sk-estimator-doc-link,\n",
              "a:link.sk-estimator-doc-link,\n",
              "a:visited.sk-estimator-doc-link {\n",
              "  float: right;\n",
              "  font-size: smaller;\n",
              "  line-height: 1em;\n",
              "  font-family: monospace;\n",
              "  background-color: var(--sklearn-color-background);\n",
              "  border-radius: 1em;\n",
              "  height: 1em;\n",
              "  width: 1em;\n",
              "  text-decoration: none !important;\n",
              "  margin-left: 0.5em;\n",
              "  text-align: center;\n",
              "  /* unfitted */\n",
              "  border: var(--sklearn-color-unfitted-level-1) 1pt solid;\n",
              "  color: var(--sklearn-color-unfitted-level-1);\n",
              "}\n",
              "\n",
              ".sk-estimator-doc-link.fitted,\n",
              "a:link.sk-estimator-doc-link.fitted,\n",
              "a:visited.sk-estimator-doc-link.fitted {\n",
              "  /* fitted */\n",
              "  border: var(--sklearn-color-fitted-level-1) 1pt solid;\n",
              "  color: var(--sklearn-color-fitted-level-1);\n",
              "}\n",
              "\n",
              "/* On hover */\n",
              "div.sk-estimator:hover .sk-estimator-doc-link:hover,\n",
              ".sk-estimator-doc-link:hover,\n",
              "div.sk-label-container:hover .sk-estimator-doc-link:hover,\n",
              ".sk-estimator-doc-link:hover {\n",
              "  /* unfitted */\n",
              "  background-color: var(--sklearn-color-unfitted-level-3);\n",
              "  color: var(--sklearn-color-background);\n",
              "  text-decoration: none;\n",
              "}\n",
              "\n",
              "div.sk-estimator.fitted:hover .sk-estimator-doc-link.fitted:hover,\n",
              ".sk-estimator-doc-link.fitted:hover,\n",
              "div.sk-label-container:hover .sk-estimator-doc-link.fitted:hover,\n",
              ".sk-estimator-doc-link.fitted:hover {\n",
              "  /* fitted */\n",
              "  background-color: var(--sklearn-color-fitted-level-3);\n",
              "  color: var(--sklearn-color-background);\n",
              "  text-decoration: none;\n",
              "}\n",
              "\n",
              "/* Span, style for the box shown on hovering the info icon */\n",
              ".sk-estimator-doc-link span {\n",
              "  display: none;\n",
              "  z-index: 9999;\n",
              "  position: relative;\n",
              "  font-weight: normal;\n",
              "  right: .2ex;\n",
              "  padding: .5ex;\n",
              "  margin: .5ex;\n",
              "  width: min-content;\n",
              "  min-width: 20ex;\n",
              "  max-width: 50ex;\n",
              "  color: var(--sklearn-color-text);\n",
              "  box-shadow: 2pt 2pt 4pt #999;\n",
              "  /* unfitted */\n",
              "  background: var(--sklearn-color-unfitted-level-0);\n",
              "  border: .5pt solid var(--sklearn-color-unfitted-level-3);\n",
              "}\n",
              "\n",
              ".sk-estimator-doc-link.fitted span {\n",
              "  /* fitted */\n",
              "  background: var(--sklearn-color-fitted-level-0);\n",
              "  border: var(--sklearn-color-fitted-level-3);\n",
              "}\n",
              "\n",
              ".sk-estimator-doc-link:hover span {\n",
              "  display: block;\n",
              "}\n",
              "\n",
              "/* \"?\"-specific style due to the `<a>` HTML tag */\n",
              "\n",
              "#sk-container-id-2 a.estimator_doc_link {\n",
              "  float: right;\n",
              "  font-size: 1rem;\n",
              "  line-height: 1em;\n",
              "  font-family: monospace;\n",
              "  background-color: var(--sklearn-color-background);\n",
              "  border-radius: 1rem;\n",
              "  height: 1rem;\n",
              "  width: 1rem;\n",
              "  text-decoration: none;\n",
              "  /* unfitted */\n",
              "  color: var(--sklearn-color-unfitted-level-1);\n",
              "  border: var(--sklearn-color-unfitted-level-1) 1pt solid;\n",
              "}\n",
              "\n",
              "#sk-container-id-2 a.estimator_doc_link.fitted {\n",
              "  /* fitted */\n",
              "  border: var(--sklearn-color-fitted-level-1) 1pt solid;\n",
              "  color: var(--sklearn-color-fitted-level-1);\n",
              "}\n",
              "\n",
              "/* On hover */\n",
              "#sk-container-id-2 a.estimator_doc_link:hover {\n",
              "  /* unfitted */\n",
              "  background-color: var(--sklearn-color-unfitted-level-3);\n",
              "  color: var(--sklearn-color-background);\n",
              "  text-decoration: none;\n",
              "}\n",
              "\n",
              "#sk-container-id-2 a.estimator_doc_link.fitted:hover {\n",
              "  /* fitted */\n",
              "  background-color: var(--sklearn-color-fitted-level-3);\n",
              "}\n",
              "</style><div id=\"sk-container-id-2\" class=\"sk-top-container\"><div class=\"sk-text-repr-fallback\"><pre>DecisionTreeClassifier(random_state=101)</pre><b>In a Jupyter environment, please rerun this cell to show the HTML representation or trust the notebook. <br />On GitHub, the HTML representation is unable to render, please try loading this page with nbviewer.org.</b></div><div class=\"sk-container\" hidden><div class=\"sk-item\"><div class=\"sk-estimator fitted sk-toggleable\"><input class=\"sk-toggleable__control sk-hidden--visually\" id=\"sk-estimator-id-2\" type=\"checkbox\" checked><label for=\"sk-estimator-id-2\" class=\"sk-toggleable__label fitted sk-toggleable__label-arrow\"><div><div>DecisionTreeClassifier</div></div><div><a class=\"sk-estimator-doc-link fitted\" rel=\"noreferrer\" target=\"_blank\" href=\"https://scikit-learn.org/1.6/modules/generated/sklearn.tree.DecisionTreeClassifier.html\">?<span>Documentation for DecisionTreeClassifier</span></a><span class=\"sk-estimator-doc-link fitted\">i<span>Fitted</span></span></div></label><div class=\"sk-toggleable__content fitted\"><pre>DecisionTreeClassifier(random_state=101)</pre></div> </div></div></div></div>"
            ]
          },
          "metadata": {},
          "execution_count": 29
        }
      ]
    },
    {
      "cell_type": "code",
      "source": [
        "predictions = tree.predict(X_test)"
      ],
      "metadata": {
        "execution": {
          "iopub.execute_input": "2024-05-02T21:18:16.63255Z",
          "iopub.status.busy": "2024-05-02T21:18:16.632182Z",
          "iopub.status.idle": "2024-05-02T21:18:16.638528Z",
          "shell.execute_reply": "2024-05-02T21:18:16.637499Z"
        },
        "id": "1TXOJcq8ZcrP",
        "papermill": {
          "duration": 0.029881,
          "end_time": "2024-05-02T21:18:16.640937",
          "exception": false,
          "start_time": "2024-05-02T21:18:16.611056",
          "status": "completed"
        },
        "tags": []
      },
      "execution_count": null,
      "outputs": []
    },
    {
      "cell_type": "code",
      "source": [
        "print(classification_report(y_test, predictions))"
      ],
      "metadata": {
        "execution": {
          "iopub.execute_input": "2024-05-02T21:18:16.68357Z",
          "iopub.status.busy": "2024-05-02T21:18:16.683179Z",
          "iopub.status.idle": "2024-05-02T21:18:16.697658Z",
          "shell.execute_reply": "2024-05-02T21:18:16.69645Z"
        },
        "id": "FGq1mpyEZfUf",
        "papermill": {
          "duration": 0.0386,
          "end_time": "2024-05-02T21:18:16.699606",
          "exception": false,
          "start_time": "2024-05-02T21:18:16.661006",
          "status": "completed"
        },
        "tags": [],
        "colab": {
          "base_uri": "https://localhost:8080/"
        },
        "outputId": "021617b9-774b-48f7-9ed4-f14eec8d6bd5"
      },
      "execution_count": null,
      "outputs": [
        {
          "output_type": "stream",
          "name": "stdout",
          "text": [
            "              precision    recall  f1-score   support\n",
            "\n",
            "           0       0.99      0.99      0.99      1358\n",
            "           1       0.91      0.94      0.93       142\n",
            "\n",
            "    accuracy                           0.99      1500\n",
            "   macro avg       0.95      0.97      0.96      1500\n",
            "weighted avg       0.99      0.99      0.99      1500\n",
            "\n"
          ]
        }
      ]
    },
    {
      "cell_type": "markdown",
      "source": [
        "The report shows that by using imbalanced dataset, accuracy score is 0.02 higher than using balanced dataset. However, precision and f1-score (macro avg) are both smaller when we use imbalanced dataset. We then return to the balanced dataset"
      ],
      "metadata": {
        "id": "b_vM0qJsd26q",
        "papermill": {
          "duration": 0.020291,
          "end_time": "2024-05-02T21:18:16.740885",
          "exception": false,
          "start_time": "2024-05-02T21:18:16.720594",
          "status": "completed"
        },
        "tags": []
      }
    },
    {
      "cell_type": "code",
      "source": [
        "X_train, X_test, y_train, y_test = train_test_split(X_oversample, y_oversample, test_size=0.3, random_state=101)"
      ],
      "metadata": {
        "execution": {
          "iopub.execute_input": "2024-05-02T21:18:16.783284Z",
          "iopub.status.busy": "2024-05-02T21:18:16.782632Z",
          "iopub.status.idle": "2024-05-02T21:18:16.789924Z",
          "shell.execute_reply": "2024-05-02T21:18:16.789134Z"
        },
        "id": "9deMGHhYevUM",
        "papermill": {
          "duration": 0.031088,
          "end_time": "2024-05-02T21:18:16.792064",
          "exception": false,
          "start_time": "2024-05-02T21:18:16.760976",
          "status": "completed"
        },
        "tags": []
      },
      "execution_count": null,
      "outputs": []
    },
    {
      "cell_type": "markdown",
      "source": [
        "## 3.3 Tuning the model"
      ],
      "metadata": {
        "id": "py9Lrlgxe5y8",
        "papermill": {
          "duration": 0.02098,
          "end_time": "2024-05-02T21:18:16.833283",
          "exception": false,
          "start_time": "2024-05-02T21:18:16.812303",
          "status": "completed"
        },
        "tags": []
      }
    },
    {
      "cell_type": "markdown",
      "source": [
        "There are two hyperparameters we will try to tune up.\n",
        "\n",
        "* min_samples_split: The minimum number of samples required to split an internal node.\n",
        "Choosing a higher min_samples_split can reduce the number of splits and may help to reduce overfitting.\n",
        "\n",
        "* max_depth: The maximum depth of the tree.\n",
        "Choosing a lower max_depth can reduce the number of splits and may help to reduce overfitting.\n",
        "\n",
        "\n"
      ],
      "metadata": {
        "id": "72HX20bmfnZP",
        "papermill": {
          "duration": 0.020093,
          "end_time": "2024-05-02T21:18:16.873265",
          "exception": false,
          "start_time": "2024-05-02T21:18:16.853172",
          "status": "completed"
        },
        "tags": []
      }
    },
    {
      "cell_type": "code",
      "source": [
        "min_samples_split_list = [2,10, 30, 50, 100, 200, 300, 700]\n",
        "max_depth_list = [1,2, 3, 4, 8, 16, 32, 64, None]"
      ],
      "metadata": {
        "execution": {
          "iopub.execute_input": "2024-05-02T21:18:16.91542Z",
          "iopub.status.busy": "2024-05-02T21:18:16.914708Z",
          "iopub.status.idle": "2024-05-02T21:18:16.919513Z",
          "shell.execute_reply": "2024-05-02T21:18:16.918507Z"
        },
        "id": "b9_LgPoIelyu",
        "papermill": {
          "duration": 0.028395,
          "end_time": "2024-05-02T21:18:16.921584",
          "exception": false,
          "start_time": "2024-05-02T21:18:16.893189",
          "status": "completed"
        },
        "tags": []
      },
      "execution_count": null,
      "outputs": []
    },
    {
      "cell_type": "code",
      "source": [
        "accuracy_test = []\n",
        "accuracy_train = []\n",
        "for i in min_samples_split_list:\n",
        "  tree = DecisionTreeClassifier(min_samples_split = i, random_state = 101)\n",
        "  tree.fit(X_train, y_train)\n",
        "  predictions_train = tree.predict(X_train)\n",
        "  predictions_test = tree.predict(X_test)\n",
        "  accuracy_test.append(classification_report(y_test, predictions_test, output_dict=True)['accuracy'])\n",
        "  accuracy_train.append(classification_report(y_train, predictions_train, output_dict=True)['accuracy'])\n",
        "\n",
        "plt.title('Train x Test metrics')\n",
        "plt.xticks(ticks=range(len(min_samples_split_list)), labels=min_samples_split_list)\n",
        "plt.plot(accuracy_train)\n",
        "plt.plot(accuracy_test)\n",
        "plt.legend(['Train','Test'])\n"
      ],
      "metadata": {
        "execution": {
          "iopub.execute_input": "2024-05-02T21:18:16.964037Z",
          "iopub.status.busy": "2024-05-02T21:18:16.963303Z",
          "iopub.status.idle": "2024-05-02T21:18:17.679362Z",
          "shell.execute_reply": "2024-05-02T21:18:17.678299Z"
        },
        "id": "ZhFwsRFyZgmM",
        "papermill": {
          "duration": 0.740042,
          "end_time": "2024-05-02T21:18:17.681683",
          "exception": false,
          "start_time": "2024-05-02T21:18:16.941641",
          "status": "completed"
        },
        "tags": [],
        "colab": {
          "base_uri": "https://localhost:8080/",
          "height": 469
        },
        "outputId": "ed0c4616-33e0-4ecd-9576-6d6e521edf77"
      },
      "execution_count": null,
      "outputs": [
        {
          "output_type": "execute_result",
          "data": {
            "text/plain": [
              "<matplotlib.legend.Legend at 0x78fdd0b50e60>"
            ]
          },
          "metadata": {},
          "execution_count": 34
        },
        {
          "output_type": "display_data",
          "data": {
            "text/plain": [
              "<Figure size 640x480 with 1 Axes>"
            ],
            "image/png": "[encoded data removed]"
          },
          "metadata": {}
        }
      ]
    },
    {
      "cell_type": "markdown",
      "source": [
        "Accuracy of test set decreases as the min_samples_split increase. Then we tune the max_depth."
      ],
      "metadata": {
        "id": "sGcGXd_5h7Ym",
        "papermill": {
          "duration": 0.020437,
          "end_time": "2024-05-02T21:18:17.723649",
          "exception": false,
          "start_time": "2024-05-02T21:18:17.703212",
          "status": "completed"
        },
        "tags": []
      }
    },
    {
      "cell_type": "code",
      "source": [
        "accuracy_test = []\n",
        "accuracy_train = []\n",
        "for i in max_depth_list:\n",
        "  tree = DecisionTreeClassifier(max_depth = i, random_state = 101)\n",
        "  tree.fit(X_train, y_train)\n",
        "  predictions_train = tree.predict(X_train)\n",
        "  predictions_test = tree.predict(X_test)\n",
        "  accuracy_test.append(classification_report(y_test, predictions_test, output_dict=True)['accuracy'])\n",
        "  accuracy_train.append(classification_report(y_train, predictions_train, output_dict=True)['accuracy'])\n",
        "\n",
        "plt.title('Train x Test metrics')\n",
        "plt.xticks(ticks=range(len(max_depth_list)), labels=max_depth_list)\n",
        "plt.plot(accuracy_train)\n",
        "plt.plot(accuracy_test)\n",
        "plt.legend(['Train','Test'])\n"
      ],
      "metadata": {
        "execution": {
          "iopub.execute_input": "2024-05-02T21:18:17.767202Z",
          "iopub.status.busy": "2024-05-02T21:18:17.766781Z",
          "iopub.status.idle": "2024-05-02T21:18:18.536539Z",
          "shell.execute_reply": "2024-05-02T21:18:18.535582Z"
        },
        "id": "i84GsMuFgD98",
        "papermill": {
          "duration": 0.794995,
          "end_time": "2024-05-02T21:18:18.53955",
          "exception": false,
          "start_time": "2024-05-02T21:18:17.744555",
          "status": "completed"
        },
        "tags": [],
        "colab": {
          "base_uri": "https://localhost:8080/",
          "height": 469
        },
        "outputId": "c4a2f16b-c407-404d-e7d6-e799100b3405"
      },
      "execution_count": null,
      "outputs": [
        {
          "output_type": "execute_result",
          "data": {
            "text/plain": [
              "<matplotlib.legend.Legend at 0x78fdd0b03980>"
            ]
          },
          "metadata": {},
          "execution_count": 36
        },
        {
          "output_type": "display_data",
          "data": {
            "text/plain": [
              "<Figure size 640x480 with 1 Axes>"
            ],
            "image/png": "[encoded data removed]"
          },
          "metadata": {}
        }
      ]
    },
    {
      "cell_type": "markdown",
      "source": [
        "In General, we see that reducing max_depth_split can reduce overfitting. When the max_depth is smaller than 16, both training and validation accuracy decreases. The tree cannot make enough splits to distinguish positives from negatives (the model is underfitting the training set). The validation accuracy reaches the highest at tree_depth=16. So we can choose the best values for these two hyper-parameters for our model to be:\n",
        "\n",
        "max_depth = 2,\n",
        "\n",
        "min_samples_split = 16"
      ],
      "metadata": {
        "id": "Vxjo2J9GjsoG",
        "papermill": {
          "duration": 0.021312,
          "end_time": "2024-05-02T21:18:18.583786",
          "exception": false,
          "start_time": "2024-05-02T21:18:18.562474",
          "status": "completed"
        },
        "tags": []
      }
    },
    {
      "cell_type": "code",
      "source": [
        "tree = DecisionTreeClassifier(min_samples_split=2, max_depth=16, random_state=101)"
      ],
      "metadata": {
        "execution": {
          "iopub.execute_input": "2024-05-02T21:18:18.639599Z",
          "iopub.status.busy": "2024-05-02T21:18:18.639127Z",
          "iopub.status.idle": "2024-05-02T21:18:18.643922Z",
          "shell.execute_reply": "2024-05-02T21:18:18.643085Z"
        },
        "id": "ttcfzQ4EivQY",
        "papermill": {
          "duration": 0.032269,
          "end_time": "2024-05-02T21:18:18.646493",
          "exception": false,
          "start_time": "2024-05-02T21:18:18.614224",
          "status": "completed"
        },
        "tags": []
      },
      "execution_count": null,
      "outputs": []
    },
    {
      "cell_type": "code",
      "source": [
        "tree.fit(X_train, y_train)"
      ],
      "metadata": {
        "execution": {
          "iopub.execute_input": "2024-05-02T21:18:18.696299Z",
          "iopub.status.busy": "2024-05-02T21:18:18.695385Z",
          "iopub.status.idle": "2024-05-02T21:18:18.723599Z",
          "shell.execute_reply": "2024-05-02T21:18:18.722516Z"
        },
        "id": "61vJi5CejSHI",
        "papermill": {
          "duration": 0.053078,
          "end_time": "2024-05-02T21:18:18.725846",
          "exception": false,
          "start_time": "2024-05-02T21:18:18.672768",
          "status": "completed"
        },
        "tags": [],
        "colab": {
          "base_uri": "https://localhost:8080/",
          "height": 80
        },
        "outputId": "40f98fce-884d-413e-c0e9-6561c2ff926f"
      },
      "execution_count": null,
      "outputs": [
        {
          "output_type": "execute_result",
          "data": {
            "text/plain": [
              "DecisionTreeClassifier(max_depth=16, random_state=101)"
            ],
            "text/html": [
              "<style>#sk-container-id-3 {\n",
              "  /* Definition of color scheme common for light and dark mode */\n",
              "  --sklearn-color-text: #000;\n",
              "  --sklearn-color-text-muted: #666;\n",
              "  --sklearn-color-line: gray;\n",
              "  /* Definition of color scheme for unfitted estimators */\n",
              "  --sklearn-color-unfitted-level-0: #fff5e6;\n",
              "  --sklearn-color-unfitted-level-1: #f6e4d2;\n",
              "  --sklearn-color-unfitted-level-2: #ffe0b3;\n",
              "  --sklearn-color-unfitted-level-3: chocolate;\n",
              "  /* Definition of color scheme for fitted estimators */\n",
              "  --sklearn-color-fitted-level-0: #f0f8ff;\n",
              "  --sklearn-color-fitted-level-1: #d4ebff;\n",
              "  --sklearn-color-fitted-level-2: #b3dbfd;\n",
              "  --sklearn-color-fitted-level-3: cornflowerblue;\n",
              "\n",
              "  /* Specific color for light theme */\n",
              "  --sklearn-color-text-on-default-background: var(--sg-text-color, var(--theme-code-foreground, var(--jp-content-font-color1, black)));\n",
              "  --sklearn-color-background: var(--sg-background-color, var(--theme-background, var(--jp-layout-color0, white)));\n",
              "  --sklearn-color-border-box: var(--sg-text-color, var(--theme-code-foreground, var(--jp-content-font-color1, black)));\n",
              "  --sklearn-color-icon: #696969;\n",
              "\n",
              "  @media (prefers-color-scheme: dark) {\n",
              "    /* Redefinition of color scheme for dark theme */\n",
              "    --sklearn-color-text-on-default-background: var(--sg-text-color, var(--theme-code-foreground, var(--jp-content-font-color1, white)));\n",
              "    --sklearn-color-background: var(--sg-background-color, var(--theme-background, var(--jp-layout-color0, #111)));\n",
              "    --sklearn-color-border-box: var(--sg-text-color, var(--theme-code-foreground, var(--jp-content-font-color1, white)));\n",
              "    --sklearn-color-icon: #878787;\n",
              "  }\n",
              "}\n",
              "\n",
              "#sk-container-id-3 {\n",
              "  color: var(--sklearn-color-text);\n",
              "}\n",
              "\n",
              "#sk-container-id-3 pre {\n",
              "  padding: 0;\n",
              "}\n",
              "\n",
              "#sk-container-id-3 input.sk-hidden--visually {\n",
              "  border: 0;\n",
              "  clip: rect(1px 1px 1px 1px);\n",
              "  clip: rect(1px, 1px, 1px, 1px);\n",
              "  height: 1px;\n",
              "  margin: -1px;\n",
              "  overflow: hidden;\n",
              "  padding: 0;\n",
              "  position: absolute;\n",
              "  width: 1px;\n",
              "}\n",
              "\n",
              "#sk-container-id-3 div.sk-dashed-wrapped {\n",
              "  border: 1px dashed var(--sklearn-color-line);\n",
              "  margin: 0 0.4em 0.5em 0.4em;\n",
              "  box-sizing: border-box;\n",
              "  padding-bottom: 0.4em;\n",
              "  background-color: var(--sklearn-color-background);\n",
              "}\n",
              "\n",
              "#sk-container-id-3 div.sk-container {\n",
              "  /* jupyter's `normalize.less` sets `[hidden] { display: none; }`\n",
              "     but bootstrap.min.css set `[hidden] { display: none !important; }`\n",
              "     so we also need the `!important` here to be able to override the\n",
              "     default hidden behavior on the sphinx rendered scikit-learn.org.\n",
              "     See: https://github.com/scikit-learn/scikit-learn/issues/21755 */\n",
              "  display: inline-block !important;\n",
              "  position: relative;\n",
              "}\n",
              "\n",
              "#sk-container-id-3 div.sk-text-repr-fallback {\n",
              "  display: none;\n",
              "}\n",
              "\n",
              "div.sk-parallel-item,\n",
              "div.sk-serial,\n",
              "div.sk-item {\n",
              "  /* draw centered vertical line to link estimators */\n",
              "  background-image: linear-gradient(var(--sklearn-color-text-on-default-background), var(--sklearn-color-text-on-default-background));\n",
              "  background-size: 2px 100%;\n",
              "  background-repeat: no-repeat;\n",
              "  background-position: center center;\n",
              "}\n",
              "\n",
              "/* Parallel-specific style estimator block */\n",
              "\n",
              "#sk-container-id-3 div.sk-parallel-item::after {\n",
              "  content: \"\";\n",
              "  width: 100%;\n",
              "  border-bottom: 2px solid var(--sklearn-color-text-on-default-background);\n",
              "  flex-grow: 1;\n",
              "}\n",
              "\n",
              "#sk-container-id-3 div.sk-parallel {\n",
              "  display: flex;\n",
              "  align-items: stretch;\n",
              "  justify-content: center;\n",
              "  background-color: var(--sklearn-color-background);\n",
              "  position: relative;\n",
              "}\n",
              "\n",
              "#sk-container-id-3 div.sk-parallel-item {\n",
              "  display: flex;\n",
              "  flex-direction: column;\n",
              "}\n",
              "\n",
              "#sk-container-id-3 div.sk-parallel-item:first-child::after {\n",
              "  align-self: flex-end;\n",
              "  width: 50%;\n",
              "}\n",
              "\n",
              "#sk-container-id-3 div.sk-parallel-item:last-child::after {\n",
              "  align-self: flex-start;\n",
              "  width: 50%;\n",
              "}\n",
              "\n",
              "#sk-container-id-3 div.sk-parallel-item:only-child::after {\n",
              "  width: 0;\n",
              "}\n",
              "\n",
              "/* Serial-specific style estimator block */\n",
              "\n",
              "#sk-container-id-3 div.sk-serial {\n",
              "  display: flex;\n",
              "  flex-direction: column;\n",
              "  align-items: center;\n",
              "  background-color: var(--sklearn-color-background);\n",
              "  padding-right: 1em;\n",
              "  padding-left: 1em;\n",
              "}\n",
              "\n",
              "\n",
              "/* Toggleable style: style used for estimator/Pipeline/ColumnTransformer box that is\n",
              "clickable and can be expanded/collapsed.\n",
              "- Pipeline and ColumnTransformer use this feature and define the default style\n",
              "- Estimators will overwrite some part of the style using the `sk-estimator` class\n",
              "*/\n",
              "\n",
              "/* Pipeline and ColumnTransformer style (default) */\n",
              "\n",
              "#sk-container-id-3 div.sk-toggleable {\n",
              "  /* Default theme specific background. It is overwritten whether we have a\n",
              "  specific estimator or a Pipeline/ColumnTransformer */\n",
              "  background-color: var(--sklearn-color-background);\n",
              "}\n",
              "\n",
              "/* Toggleable label */\n",
              "#sk-container-id-3 label.sk-toggleable__label {\n",
              "  cursor: pointer;\n",
              "  display: flex;\n",
              "  width: 100%;\n",
              "  margin-bottom: 0;\n",
              "  padding: 0.5em;\n",
              "  box-sizing: border-box;\n",
              "  text-align: center;\n",
              "  align-items: start;\n",
              "  justify-content: space-between;\n",
              "  gap: 0.5em;\n",
              "}\n",
              "\n",
              "#sk-container-id-3 label.sk-toggleable__label .caption {\n",
              "  font-size: 0.6rem;\n",
              "  font-weight: lighter;\n",
              "  color: var(--sklearn-color-text-muted);\n",
              "}\n",
              "\n",
              "#sk-container-id-3 label.sk-toggleable__label-arrow:before {\n",
              "  /* Arrow on the left of the label */\n",
              "  content: \"▸\";\n",
              "  float: left;\n",
              "  margin-right: 0.25em;\n",
              "  color: var(--sklearn-color-icon);\n",
              "}\n",
              "\n",
              "#sk-container-id-3 label.sk-toggleable__label-arrow:hover:before {\n",
              "  color: var(--sklearn-color-text);\n",
              "}\n",
              "\n",
              "/* Toggleable content - dropdown */\n",
              "\n",
              "#sk-container-id-3 div.sk-toggleable__content {\n",
              "  max-height: 0;\n",
              "  max-width: 0;\n",
              "  overflow: hidden;\n",
              "  text-align: left;\n",
              "  /* unfitted */\n",
              "  background-color: var(--sklearn-color-unfitted-level-0);\n",
              "}\n",
              "\n",
              "#sk-container-id-3 div.sk-toggleable__content.fitted {\n",
              "  /* fitted */\n",
              "  background-color: var(--sklearn-color-fitted-level-0);\n",
              "}\n",
              "\n",
              "#sk-container-id-3 div.sk-toggleable__content pre {\n",
              "  margin: 0.2em;\n",
              "  border-radius: 0.25em;\n",
              "  color: var(--sklearn-color-text);\n",
              "  /* unfitted */\n",
              "  background-color: var(--sklearn-color-unfitted-level-0);\n",
              "}\n",
              "\n",
              "#sk-container-id-3 div.sk-toggleable__content.fitted pre {\n",
              "  /* unfitted */\n",
              "  background-color: var(--sklearn-color-fitted-level-0);\n",
              "}\n",
              "\n",
              "#sk-container-id-3 input.sk-toggleable__control:checked~div.sk-toggleable__content {\n",
              "  /* Expand drop-down */\n",
              "  max-height: 200px;\n",
              "  max-width: 100%;\n",
              "  overflow: auto;\n",
              "}\n",
              "\n",
              "#sk-container-id-3 input.sk-toggleable__control:checked~label.sk-toggleable__label-arrow:before {\n",
              "  content: \"▾\";\n",
              "}\n",
              "\n",
              "/* Pipeline/ColumnTransformer-specific style */\n",
              "\n",
              "#sk-container-id-3 div.sk-label input.sk-toggleable__control:checked~label.sk-toggleable__label {\n",
              "  color: var(--sklearn-color-text);\n",
              "  background-color: var(--sklearn-color-unfitted-level-2);\n",
              "}\n",
              "\n",
              "#sk-container-id-3 div.sk-label.fitted input.sk-toggleable__control:checked~label.sk-toggleable__label {\n",
              "  background-color: var(--sklearn-color-fitted-level-2);\n",
              "}\n",
              "\n",
              "/* Estimator-specific style */\n",
              "\n",
              "/* Colorize estimator box */\n",
              "#sk-container-id-3 div.sk-estimator input.sk-toggleable__control:checked~label.sk-toggleable__label {\n",
              "  /* unfitted */\n",
              "  background-color: var(--sklearn-color-unfitted-level-2);\n",
              "}\n",
              "\n",
              "#sk-container-id-3 div.sk-estimator.fitted input.sk-toggleable__control:checked~label.sk-toggleable__label {\n",
              "  /* fitted */\n",
              "  background-color: var(--sklearn-color-fitted-level-2);\n",
              "}\n",
              "\n",
              "#sk-container-id-3 div.sk-label label.sk-toggleable__label,\n",
              "#sk-container-id-3 div.sk-label label {\n",
              "  /* The background is the default theme color */\n",
              "  color: var(--sklearn-color-text-on-default-background);\n",
              "}\n",
              "\n",
              "/* On hover, darken the color of the background */\n",
              "#sk-container-id-3 div.sk-label:hover label.sk-toggleable__label {\n",
              "  color: var(--sklearn-color-text);\n",
              "  background-color: var(--sklearn-color-unfitted-level-2);\n",
              "}\n",
              "\n",
              "/* Label box, darken color on hover, fitted */\n",
              "#sk-container-id-3 div.sk-label.fitted:hover label.sk-toggleable__label.fitted {\n",
              "  color: var(--sklearn-color-text);\n",
              "  background-color: var(--sklearn-color-fitted-level-2);\n",
              "}\n",
              "\n",
              "/* Estimator label */\n",
              "\n",
              "#sk-container-id-3 div.sk-label label {\n",
              "  font-family: monospace;\n",
              "  font-weight: bold;\n",
              "  display: inline-block;\n",
              "  line-height: 1.2em;\n",
              "}\n",
              "\n",
              "#sk-container-id-3 div.sk-label-container {\n",
              "  text-align: center;\n",
              "}\n",
              "\n",
              "/* Estimator-specific */\n",
              "#sk-container-id-3 div.sk-estimator {\n",
              "  font-family: monospace;\n",
              "  border: 1px dotted var(--sklearn-color-border-box);\n",
              "  border-radius: 0.25em;\n",
              "  box-sizing: border-box;\n",
              "  margin-bottom: 0.5em;\n",
              "  /* unfitted */\n",
              "  background-color: var(--sklearn-color-unfitted-level-0);\n",
              "}\n",
              "\n",
              "#sk-container-id-3 div.sk-estimator.fitted {\n",
              "  /* fitted */\n",
              "  background-color: var(--sklearn-color-fitted-level-0);\n",
              "}\n",
              "\n",
              "/* on hover */\n",
              "#sk-container-id-3 div.sk-estimator:hover {\n",
              "  /* unfitted */\n",
              "  background-color: var(--sklearn-color-unfitted-level-2);\n",
              "}\n",
              "\n",
              "#sk-container-id-3 div.sk-estimator.fitted:hover {\n",
              "  /* fitted */\n",
              "  background-color: var(--sklearn-color-fitted-level-2);\n",
              "}\n",
              "\n",
              "/* Specification for estimator info (e.g. \"i\" and \"?\") */\n",
              "\n",
              "/* Common style for \"i\" and \"?\" */\n",
              "\n",
              ".sk-estimator-doc-link,\n",
              "a:link.sk-estimator-doc-link,\n",
              "a:visited.sk-estimator-doc-link {\n",
              "  float: right;\n",
              "  font-size: smaller;\n",
              "  line-height: 1em;\n",
              "  font-family: monospace;\n",
              "  background-color: var(--sklearn-color-background);\n",
              "  border-radius: 1em;\n",
              "  height: 1em;\n",
              "  width: 1em;\n",
              "  text-decoration: none !important;\n",
              "  margin-left: 0.5em;\n",
              "  text-align: center;\n",
              "  /* unfitted */\n",
              "  border: var(--sklearn-color-unfitted-level-1) 1pt solid;\n",
              "  color: var(--sklearn-color-unfitted-level-1);\n",
              "}\n",
              "\n",
              ".sk-estimator-doc-link.fitted,\n",
              "a:link.sk-estimator-doc-link.fitted,\n",
              "a:visited.sk-estimator-doc-link.fitted {\n",
              "  /* fitted */\n",
              "  border: var(--sklearn-color-fitted-level-1) 1pt solid;\n",
              "  color: var(--sklearn-color-fitted-level-1);\n",
              "}\n",
              "\n",
              "/* On hover */\n",
              "div.sk-estimator:hover .sk-estimator-doc-link:hover,\n",
              ".sk-estimator-doc-link:hover,\n",
              "div.sk-label-container:hover .sk-estimator-doc-link:hover,\n",
              ".sk-estimator-doc-link:hover {\n",
              "  /* unfitted */\n",
              "  background-color: var(--sklearn-color-unfitted-level-3);\n",
              "  color: var(--sklearn-color-background);\n",
              "  text-decoration: none;\n",
              "}\n",
              "\n",
              "div.sk-estimator.fitted:hover .sk-estimator-doc-link.fitted:hover,\n",
              ".sk-estimator-doc-link.fitted:hover,\n",
              "div.sk-label-container:hover .sk-estimator-doc-link.fitted:hover,\n",
              ".sk-estimator-doc-link.fitted:hover {\n",
              "  /* fitted */\n",
              "  background-color: var(--sklearn-color-fitted-level-3);\n",
              "  color: var(--sklearn-color-background);\n",
              "  text-decoration: none;\n",
              "}\n",
              "\n",
              "/* Span, style for the box shown on hovering the info icon */\n",
              ".sk-estimator-doc-link span {\n",
              "  display: none;\n",
              "  z-index: 9999;\n",
              "  position: relative;\n",
              "  font-weight: normal;\n",
              "  right: .2ex;\n",
              "  padding: .5ex;\n",
              "  margin: .5ex;\n",
              "  width: min-content;\n",
              "  min-width: 20ex;\n",
              "  max-width: 50ex;\n",
              "  color: var(--sklearn-color-text);\n",
              "  box-shadow: 2pt 2pt 4pt #999;\n",
              "  /* unfitted */\n",
              "  background: var(--sklearn-color-unfitted-level-0);\n",
              "  border: .5pt solid var(--sklearn-color-unfitted-level-3);\n",
              "}\n",
              "\n",
              ".sk-estimator-doc-link.fitted span {\n",
              "  /* fitted */\n",
              "  background: var(--sklearn-color-fitted-level-0);\n",
              "  border: var(--sklearn-color-fitted-level-3);\n",
              "}\n",
              "\n",
              ".sk-estimator-doc-link:hover span {\n",
              "  display: block;\n",
              "}\n",
              "\n",
              "/* \"?\"-specific style due to the `<a>` HTML tag */\n",
              "\n",
              "#sk-container-id-3 a.estimator_doc_link {\n",
              "  float: right;\n",
              "  font-size: 1rem;\n",
              "  line-height: 1em;\n",
              "  font-family: monospace;\n",
              "  background-color: var(--sklearn-color-background);\n",
              "  border-radius: 1rem;\n",
              "  height: 1rem;\n",
              "  width: 1rem;\n",
              "  text-decoration: none;\n",
              "  /* unfitted */\n",
              "  color: var(--sklearn-color-unfitted-level-1);\n",
              "  border: var(--sklearn-color-unfitted-level-1) 1pt solid;\n",
              "}\n",
              "\n",
              "#sk-container-id-3 a.estimator_doc_link.fitted {\n",
              "  /* fitted */\n",
              "  border: var(--sklearn-color-fitted-level-1) 1pt solid;\n",
              "  color: var(--sklearn-color-fitted-level-1);\n",
              "}\n",
              "\n",
              "/* On hover */\n",
              "#sk-container-id-3 a.estimator_doc_link:hover {\n",
              "  /* unfitted */\n",
              "  background-color: var(--sklearn-color-unfitted-level-3);\n",
              "  color: var(--sklearn-color-background);\n",
              "  text-decoration: none;\n",
              "}\n",
              "\n",
              "#sk-container-id-3 a.estimator_doc_link.fitted:hover {\n",
              "  /* fitted */\n",
              "  background-color: var(--sklearn-color-fitted-level-3);\n",
              "}\n",
              "</style><div id=\"sk-container-id-3\" class=\"sk-top-container\"><div class=\"sk-text-repr-fallback\"><pre>DecisionTreeClassifier(max_depth=16, random_state=101)</pre><b>In a Jupyter environment, please rerun this cell to show the HTML representation or trust the notebook. <br />On GitHub, the HTML representation is unable to render, please try loading this page with nbviewer.org.</b></div><div class=\"sk-container\" hidden><div class=\"sk-item\"><div class=\"sk-estimator fitted sk-toggleable\"><input class=\"sk-toggleable__control sk-hidden--visually\" id=\"sk-estimator-id-3\" type=\"checkbox\" checked><label for=\"sk-estimator-id-3\" class=\"sk-toggleable__label fitted sk-toggleable__label-arrow\"><div><div>DecisionTreeClassifier</div></div><div><a class=\"sk-estimator-doc-link fitted\" rel=\"noreferrer\" target=\"_blank\" href=\"https://scikit-learn.org/1.6/modules/generated/sklearn.tree.DecisionTreeClassifier.html\">?<span>Documentation for DecisionTreeClassifier</span></a><span class=\"sk-estimator-doc-link fitted\">i<span>Fitted</span></span></div></label><div class=\"sk-toggleable__content fitted\"><pre>DecisionTreeClassifier(max_depth=16, random_state=101)</pre></div> </div></div></div></div>"
            ]
          },
          "metadata": {},
          "execution_count": 38
        }
      ]
    },
    {
      "cell_type": "code",
      "source": [
        "predictions = tree.predict(X_test)"
      ],
      "metadata": {
        "execution": {
          "iopub.execute_input": "2024-05-02T21:18:18.770579Z",
          "iopub.status.busy": "2024-05-02T21:18:18.770185Z",
          "iopub.status.idle": "2024-05-02T21:18:18.777315Z",
          "shell.execute_reply": "2024-05-02T21:18:18.776248Z"
        },
        "id": "-XrMfapijWPY",
        "papermill": {
          "duration": 0.032301,
          "end_time": "2024-05-02T21:18:18.77962",
          "exception": false,
          "start_time": "2024-05-02T21:18:18.747319",
          "status": "completed"
        },
        "tags": []
      },
      "execution_count": null,
      "outputs": []
    },
    {
      "cell_type": "code",
      "source": [
        "print(classification_report(y_test, predictions))"
      ],
      "metadata": {
        "execution": {
          "iopub.execute_input": "2024-05-02T21:18:18.825072Z",
          "iopub.status.busy": "2024-05-02T21:18:18.824672Z",
          "iopub.status.idle": "2024-05-02T21:18:18.842774Z",
          "shell.execute_reply": "2024-05-02T21:18:18.841303Z"
        },
        "id": "TH3oMVPLjlF_",
        "papermill": {
          "duration": 0.04356,
          "end_time": "2024-05-02T21:18:18.845277",
          "exception": false,
          "start_time": "2024-05-02T21:18:18.801717",
          "status": "completed"
        },
        "tags": [],
        "colab": {
          "base_uri": "https://localhost:8080/"
        },
        "outputId": "3af46b79-6639-4595-b0fd-ffe42c6240e5"
      },
      "execution_count": null,
      "outputs": [
        {
          "output_type": "stream",
          "name": "stdout",
          "text": [
            "              precision    recall  f1-score   support\n",
            "\n",
            "           0       0.98      0.96      0.97      1361\n",
            "           1       0.96      0.98      0.97      1351\n",
            "\n",
            "    accuracy                           0.97      2712\n",
            "   macro avg       0.97      0.97      0.97      2712\n",
            "weighted avg       0.97      0.97      0.97      2712\n",
            "\n"
          ]
        }
      ]
    },
    {
      "cell_type": "markdown",
      "source": [
        "# 4. Raondom Forest"
      ],
      "metadata": {
        "id": "-0fGe-ZBlNTF",
        "papermill": {
          "duration": 0.021342,
          "end_time": "2024-05-02T21:18:18.889322",
          "exception": false,
          "start_time": "2024-05-02T21:18:18.86798",
          "status": "completed"
        },
        "tags": []
      }
    },
    {
      "cell_type": "markdown",
      "source": [
        "## 4.1  Training and evaluating the model"
      ],
      "metadata": {
        "id": "otCot35IAdKe",
        "papermill": {
          "duration": 0.021956,
          "end_time": "2024-05-02T21:18:18.933792",
          "exception": false,
          "start_time": "2024-05-02T21:18:18.911836",
          "status": "completed"
        },
        "tags": []
      }
    },
    {
      "cell_type": "markdown",
      "source": [
        "Most of hyperparameters are the same as decision tree, one additional hyperparameter is n_estimators, which is the number of decision trees made up the forest."
      ],
      "metadata": {
        "id": "xFyo52xEBJ62",
        "papermill": {
          "duration": 0.021759,
          "end_time": "2024-05-02T21:18:18.977622",
          "exception": false,
          "start_time": "2024-05-02T21:18:18.955863",
          "status": "completed"
        },
        "tags": []
      }
    },
    {
      "cell_type": "code",
      "source": [
        "min_samples_split_list = [2,10, 30, 50, 100, 200, 300, 700]\n",
        "max_depth_list = [1,2, 3, 4, 8, 16, 32, 64, None]\n",
        "n_estimators_list = [10,50,100,500]"
      ],
      "metadata": {
        "execution": {
          "iopub.execute_input": "2024-05-02T21:18:19.023619Z",
          "iopub.status.busy": "2024-05-02T21:18:19.023244Z",
          "iopub.status.idle": "2024-05-02T21:18:19.028361Z",
          "shell.execute_reply": "2024-05-02T21:18:19.027329Z"
        },
        "id": "Sj9HVgOksG2p",
        "papermill": {
          "duration": 0.030791,
          "end_time": "2024-05-02T21:18:19.030458",
          "exception": false,
          "start_time": "2024-05-02T21:18:18.999667",
          "status": "completed"
        },
        "tags": []
      },
      "execution_count": null,
      "outputs": []
    },
    {
      "cell_type": "code",
      "source": [
        "accuracy_test = []\n",
        "accuracy_train = []\n",
        "for i in min_samples_split_list:\n",
        "  forest = RandomForestClassifier(min_samples_split = i, random_state = 101)\n",
        "  forest.fit(X_train, y_train)\n",
        "  predictions_train = forest.predict(X_train)\n",
        "  predictions_test = forest.predict(X_test)\n",
        "  accuracy_test.append(classification_report(y_test, predictions_test, output_dict=True)['accuracy'])\n",
        "  accuracy_train.append(classification_report(y_train, predictions_train, output_dict=True)['accuracy'])\n",
        "\n",
        "plt.title('Train X Test Metrics')\n",
        "plt.plot(accuracy_train)\n",
        "plt.plot(accuracy_test)\n",
        "plt.xticks(ticks=range(len(min_samples_split_list)), labels=min_samples_split_list)\n",
        "plt.legend(['Train', 'Test'])\n"
      ],
      "metadata": {
        "execution": {
          "iopub.execute_input": "2024-05-02T21:18:19.075783Z",
          "iopub.status.busy": "2024-05-02T21:18:19.075096Z",
          "iopub.status.idle": "2024-05-02T21:18:25.395736Z",
          "shell.execute_reply": "2024-05-02T21:18:25.394604Z"
        },
        "id": "P90oUvNTjqKF",
        "papermill": {
          "duration": 6.346713,
          "end_time": "2024-05-02T21:18:25.398804",
          "exception": false,
          "start_time": "2024-05-02T21:18:19.052091",
          "status": "completed"
        },
        "tags": [],
        "colab": {
          "base_uri": "https://localhost:8080/",
          "height": 469
        },
        "outputId": "43266dfd-707f-4766-81fe-c268c74d3dca"
      },
      "execution_count": null,
      "outputs": [
        {
          "output_type": "execute_result",
          "data": {
            "text/plain": [
              "<matplotlib.legend.Legend at 0x78fdd0ad7860>"
            ]
          },
          "metadata": {},
          "execution_count": 42
        },
        {
          "output_type": "display_data",
          "data": {
            "text/plain": [
              "<Figure size 640x480 with 1 Axes>"
            ],
            "image/png": "[encoded data removed]"
          },
          "metadata": {}
        }
      ]
    },
    {
      "cell_type": "code",
      "source": [
        "accuracy_test = []\n",
        "accuracy_train = []\n",
        "for i in max_depth_list:\n",
        "  forest = RandomForestClassifier(max_depth = i, random_state = 101)\n",
        "  forest.fit(X_train, y_train)\n",
        "  predictions_train = forest.predict(X_train)\n",
        "  predictions_test = forest.predict(X_test)\n",
        "  accuracy_test.append(classification_report(y_test, predictions_test, output_dict=True)['accuracy'])\n",
        "  accuracy_train.append(classification_report(y_train, predictions_train, output_dict=True)['accuracy'])\n",
        "\n",
        "plt.title('Train X Test Metrics')\n",
        "plt.plot(accuracy_train)\n",
        "plt.plot(accuracy_test)\n",
        "plt.xticks(ticks=range(len(max_depth_list)), labels=max_depth_list)\n",
        "plt.legend(['Train', 'Test'])"
      ],
      "metadata": {
        "execution": {
          "iopub.execute_input": "2024-05-02T21:18:25.446045Z",
          "iopub.status.busy": "2024-05-02T21:18:25.445389Z",
          "iopub.status.idle": "2024-05-02T21:18:31.798742Z",
          "shell.execute_reply": "2024-05-02T21:18:31.797953Z"
        },
        "id": "RP9vcDLlsuHm",
        "papermill": {
          "duration": 6.379267,
          "end_time": "2024-05-02T21:18:31.80087",
          "exception": false,
          "start_time": "2024-05-02T21:18:25.421603",
          "status": "completed"
        },
        "tags": [],
        "colab": {
          "base_uri": "https://localhost:8080/",
          "height": 469
        },
        "outputId": "19cd1473-eb06-4641-e42e-34fc409b1f65"
      },
      "execution_count": null,
      "outputs": [
        {
          "output_type": "execute_result",
          "data": {
            "text/plain": [
              "<matplotlib.legend.Legend at 0x78fdd35d89e0>"
            ]
          },
          "metadata": {},
          "execution_count": 43
        },
        {
          "output_type": "display_data",
          "data": {
            "text/plain": [
              "<Figure size 640x480 with 1 Axes>"
            ],
            "image/png": "[encoded data removed]"
          },
          "metadata": {}
        }
      ]
    },
    {
      "cell_type": "code",
      "source": [
        "accuracy_test = []\n",
        "accuracy_train = []\n",
        "\n",
        "for i in n_estimators_list:\n",
        "  forest = RandomForestClassifier(n_estimators = i, random_state = 101)\n",
        "  forest.fit(X_train, y_train)\n",
        "  predictions_train = forest.predict(X_train)\n",
        "  predictions_test = forest.predict(X_test)\n",
        "  accuracy_test.append(classification_report(y_test, predictions_test, output_dict=True)['accuracy'])\n",
        "  accuracy_train.append(classification_report(y_train, predictions_train, output_dict=True)['accuracy'])\n",
        "\n",
        "plt.title('Train X Test Metrics')\n",
        "plt.plot(accuracy_train)\n",
        "plt.plot(accuracy_test)\n",
        "plt.xticks(ticks=range(len(n_estimators_list)), labels=n_estimators_list)\n",
        "plt.legend(['Train', 'Test'])"
      ],
      "metadata": {
        "execution": {
          "iopub.execute_input": "2024-05-02T21:18:31.849549Z",
          "iopub.status.busy": "2024-05-02T21:18:31.848557Z",
          "iopub.status.idle": "2024-05-02T21:18:37.778454Z",
          "shell.execute_reply": "2024-05-02T21:18:37.777334Z"
        },
        "id": "UMXx06tFt6Tg",
        "papermill": {
          "duration": 5.957172,
          "end_time": "2024-05-02T21:18:37.781187",
          "exception": false,
          "start_time": "2024-05-02T21:18:31.824015",
          "status": "completed"
        },
        "tags": [],
        "colab": {
          "base_uri": "https://localhost:8080/",
          "height": 469
        },
        "outputId": "eaacedf2-9311-4771-e0f7-bbc6afee5058"
      },
      "execution_count": null,
      "outputs": [
        {
          "output_type": "execute_result",
          "data": {
            "text/plain": [
              "<matplotlib.legend.Legend at 0x78fdd09eaff0>"
            ]
          },
          "metadata": {},
          "execution_count": 44
        },
        {
          "output_type": "display_data",
          "data": {
            "text/plain": [
              "<Figure size 640x480 with 1 Axes>"
            ],
            "image/png": "[encoded data removed]"
          },
          "metadata": {}
        }
      ]
    },
    {
      "cell_type": "code",
      "source": [
        "forest = RandomForestClassifier(min_samples_split=2, max_depth=16, n_estimators=500, random_state = 101)\n",
        "forest.fit(X_train, y_train)\n",
        "predictions = forest.predict(X_test)\n",
        "print(classification_report(y_test, predictions))"
      ],
      "metadata": {
        "execution": {
          "iopub.execute_input": "2024-05-02T21:18:37.843386Z",
          "iopub.status.busy": "2024-05-02T21:18:37.842911Z",
          "iopub.status.idle": "2024-05-02T21:18:41.679677Z",
          "shell.execute_reply": "2024-05-02T21:18:41.678875Z"
        },
        "id": "LeJM2-Ui1Gx0",
        "papermill": {
          "duration": 3.866876,
          "end_time": "2024-05-02T21:18:41.681854",
          "exception": false,
          "start_time": "2024-05-02T21:18:37.814978",
          "status": "completed"
        },
        "tags": []
      },
      "execution_count": null,
      "outputs": []
    },
    {
      "cell_type": "markdown",
      "source": [
        "# 5. XGBoost"
      ],
      "metadata": {
        "id": "GX5uoMUXCtqE",
        "papermill": {
          "duration": 0.023198,
          "end_time": "2024-05-02T21:18:41.729398",
          "exception": false,
          "start_time": "2024-05-02T21:18:41.7062",
          "status": "completed"
        },
        "tags": []
      }
    },
    {
      "cell_type": "code",
      "source": [
        "n = int(len(X_train)*0.8)\n",
        "X_train_fit, X_train_eval, y_train_fit, y_train_eval = X_train[:n], X_train[n:], y_train[:n], y_train[n:]"
      ],
      "metadata": {
        "execution": {
          "iopub.execute_input": "2024-05-02T21:18:41.778694Z",
          "iopub.status.busy": "2024-05-02T21:18:41.778062Z",
          "iopub.status.idle": "2024-05-02T21:18:41.782712Z",
          "shell.execute_reply": "2024-05-02T21:18:41.781967Z"
        },
        "id": "JmVpqt78B9ND",
        "papermill": {
          "duration": 0.031962,
          "end_time": "2024-05-02T21:18:41.78499",
          "exception": false,
          "start_time": "2024-05-02T21:18:41.753028",
          "status": "completed"
        },
        "tags": []
      },
      "execution_count": null,
      "outputs": []
    },
    {
      "cell_type": "code",
      "source": [
        "import xgboost as xgb\n",
        "print(\"XGBoost version:\", xgb.__version__)\n",
        "\n",
        "# Convert your train/eval data into DMatrix\n",
        "dtrain = xgb.DMatrix(X_train_fit, label=y_train_fit)\n",
        "deval  = xgb.DMatrix(X_train_eval, label=y_train_eval)\n",
        "\n",
        "# Parameters for training\n",
        "params = {\n",
        "    \"objective\": \"binary:logistic\",\n",
        "    \"eval_metric\": \"logloss\",\n",
        "    \"eta\": 0.1,\n",
        "    \"max_depth\": 6,\n",
        "    \"seed\": 101\n",
        "}\n",
        "\n",
        "# Train with early stopping\n",
        "evals = [(dtrain, \"train\"), (deval, \"eval\")]\n",
        "xgb_model = xgb.train(\n",
        "    params=params,\n",
        "    dtrain=dtrain,\n",
        "    num_boost_round=500,\n",
        "    evals=evals,\n",
        "    early_stopping_rounds=10,   # stops if no improvement in 10 rounds\n",
        "    verbose_eval=True\n",
        ")\n",
        "\n",
        "print(\"Best iteration:\", xgb_model.best_iteration)\n"
      ],
      "metadata": {
        "execution": {
          "iopub.execute_input": "2024-05-02T21:18:41.834645Z",
          "iopub.status.busy": "2024-05-02T21:18:41.833987Z",
          "iopub.status.idle": "2024-05-02T21:18:42.315429Z",
          "shell.execute_reply": "2024-05-02T21:18:42.314646Z"
        },
        "id": "C1xjXCbSSY2F",
        "papermill": {
          "duration": 0.508608,
          "end_time": "2024-05-02T21:18:42.31753",
          "exception": false,
          "start_time": "2024-05-02T21:18:41.808922",
          "status": "completed"
        },
        "tags": [],
        "colab": {
          "base_uri": "https://localhost:8080/"
        },
        "outputId": "bdeb8d44-0aeb-4ae7-da47-4e2f77de91ce"
      },
      "execution_count": null,
      "outputs": [
        {
          "output_type": "stream",
          "name": "stdout",
          "text": [
            "XGBoost version: 3.0.5\n",
            "[0]\ttrain-logloss:0.60963\teval-logloss:0.61160\n",
            "[1]\ttrain-logloss:0.54106\teval-logloss:0.54451\n",
            "[2]\ttrain-logloss:0.48389\teval-logloss:0.48928\n",
            "[3]\ttrain-logloss:0.43489\teval-logloss:0.44145\n",
            "[4]\ttrain-logloss:0.39338\teval-logloss:0.40200\n",
            "[5]\ttrain-logloss:0.35696\teval-logloss:0.36706\n",
            "[6]\ttrain-logloss:0.32563\teval-logloss:0.33721\n",
            "[7]\ttrain-logloss:0.29791\teval-logloss:0.31064\n",
            "[8]\ttrain-logloss:0.27373\teval-logloss:0.28808\n",
            "[9]\ttrain-logloss:0.25209\teval-logloss:0.26780\n",
            "[10]\ttrain-logloss:0.23289\teval-logloss:0.24987\n",
            "[11]\ttrain-logloss:0.21594\teval-logloss:0.23451\n",
            "[12]\ttrain-logloss:0.20070\teval-logloss:0.22017\n",
            "[13]\ttrain-logloss:0.18723\teval-logloss:0.20780\n",
            "[14]\ttrain-logloss:0.17476\teval-logloss:0.19667\n",
            "[15]\ttrain-logloss:0.16385\teval-logloss:0.18667\n",
            "[16]\ttrain-logloss:0.15394\teval-logloss:0.17754\n",
            "[17]\ttrain-logloss:0.14501\teval-logloss:0.16966\n",
            "[18]\ttrain-logloss:0.13692\teval-logloss:0.16245\n",
            "[19]\ttrain-logloss:0.12958\teval-logloss:0.15609\n",
            "[20]\ttrain-logloss:0.12291\teval-logloss:0.15044\n",
            "[21]\ttrain-logloss:0.11683\teval-logloss:0.14480\n",
            "[22]\ttrain-logloss:0.11132\teval-logloss:0.14015\n",
            "[23]\ttrain-logloss:0.10617\teval-logloss:0.13520\n",
            "[24]\ttrain-logloss:0.10155\teval-logloss:0.13122\n",
            "[25]\ttrain-logloss:0.09723\teval-logloss:0.12738\n",
            "[26]\ttrain-logloss:0.09341\teval-logloss:0.12388\n",
            "[27]\ttrain-logloss:0.08985\teval-logloss:0.12104\n",
            "[28]\ttrain-logloss:0.08594\teval-logloss:0.11804\n",
            "[29]\ttrain-logloss:0.08297\teval-logloss:0.11608\n",
            "[30]\ttrain-logloss:0.08025\teval-logloss:0.11360\n",
            "[31]\ttrain-logloss:0.07784\teval-logloss:0.11172\n",
            "[32]\ttrain-logloss:0.07500\teval-logloss:0.10944\n",
            "[33]\ttrain-logloss:0.07256\teval-logloss:0.10789\n",
            "[34]\ttrain-logloss:0.07079\teval-logloss:0.10639\n",
            "[35]\ttrain-logloss:0.06871\teval-logloss:0.10510\n",
            "[36]\ttrain-logloss:0.06698\teval-logloss:0.10388\n",
            "[37]\ttrain-logloss:0.06484\teval-logloss:0.10263\n",
            "[38]\ttrain-logloss:0.06311\teval-logloss:0.10161\n",
            "[39]\ttrain-logloss:0.06163\teval-logloss:0.10036\n",
            "[40]\ttrain-logloss:0.06018\teval-logloss:0.09951\n",
            "[41]\ttrain-logloss:0.05891\teval-logloss:0.09855\n",
            "[42]\ttrain-logloss:0.05766\teval-logloss:0.09783\n",
            "[43]\ttrain-logloss:0.05674\teval-logloss:0.09742\n",
            "[44]\ttrain-logloss:0.05576\teval-logloss:0.09642\n",
            "[45]\ttrain-logloss:0.05463\teval-logloss:0.09563\n",
            "[46]\ttrain-logloss:0.05344\teval-logloss:0.09488\n",
            "[47]\ttrain-logloss:0.05236\teval-logloss:0.09396\n",
            "[48]\ttrain-logloss:0.05141\teval-logloss:0.09282\n",
            "[49]\ttrain-logloss:0.05053\teval-logloss:0.09233\n",
            "[50]\ttrain-logloss:0.04981\teval-logloss:0.09199\n",
            "[51]\ttrain-logloss:0.04903\teval-logloss:0.09161\n",
            "[52]\ttrain-logloss:0.04813\teval-logloss:0.09103\n",
            "[53]\ttrain-logloss:0.04709\teval-logloss:0.09023\n",
            "[54]\ttrain-logloss:0.04628\teval-logloss:0.09015\n",
            "[55]\ttrain-logloss:0.04575\teval-logloss:0.08992\n",
            "[56]\ttrain-logloss:0.04510\teval-logloss:0.08979\n",
            "[57]\ttrain-logloss:0.04444\teval-logloss:0.08966\n",
            "[58]\ttrain-logloss:0.04400\teval-logloss:0.08913\n",
            "[59]\ttrain-logloss:0.04348\teval-logloss:0.08916\n",
            "[60]\ttrain-logloss:0.04287\teval-logloss:0.08897\n",
            "[61]\ttrain-logloss:0.04186\teval-logloss:0.08845\n",
            "[62]\ttrain-logloss:0.04139\teval-logloss:0.08829\n",
            "[63]\ttrain-logloss:0.04094\teval-logloss:0.08780\n",
            "[64]\ttrain-logloss:0.04007\teval-logloss:0.08737\n",
            "[65]\ttrain-logloss:0.03966\teval-logloss:0.08735\n",
            "[66]\ttrain-logloss:0.03927\teval-logloss:0.08725\n",
            "[67]\ttrain-logloss:0.03887\teval-logloss:0.08695\n",
            "[68]\ttrain-logloss:0.03804\teval-logloss:0.08631\n",
            "[69]\ttrain-logloss:0.03735\teval-logloss:0.08575\n",
            "[70]\ttrain-logloss:0.03691\teval-logloss:0.08555\n",
            "[71]\ttrain-logloss:0.03629\teval-logloss:0.08506\n",
            "[72]\ttrain-logloss:0.03578\teval-logloss:0.08514\n",
            "[73]\ttrain-logloss:0.03539\teval-logloss:0.08461\n",
            "[74]\ttrain-logloss:0.03509\teval-logloss:0.08437\n",
            "[75]\ttrain-logloss:0.03440\teval-logloss:0.08415\n",
            "[76]\ttrain-logloss:0.03405\teval-logloss:0.08409\n",
            "[77]\ttrain-logloss:0.03361\teval-logloss:0.08354\n",
            "[78]\ttrain-logloss:0.03341\teval-logloss:0.08324\n",
            "[79]\ttrain-logloss:0.03313\teval-logloss:0.08323\n",
            "[80]\ttrain-logloss:0.03283\teval-logloss:0.08305\n",
            "[81]\ttrain-logloss:0.03194\teval-logloss:0.08265\n",
            "[82]\ttrain-logloss:0.03143\teval-logloss:0.08219\n",
            "[83]\ttrain-logloss:0.03120\teval-logloss:0.08222\n",
            "[84]\ttrain-logloss:0.03068\teval-logloss:0.08201\n",
            "[85]\ttrain-logloss:0.03024\teval-logloss:0.08148\n",
            "[86]\ttrain-logloss:0.02990\teval-logloss:0.08123\n",
            "[87]\ttrain-logloss:0.02973\teval-logloss:0.08112\n",
            "[88]\ttrain-logloss:0.02931\teval-logloss:0.08106\n",
            "[89]\ttrain-logloss:0.02886\teval-logloss:0.08087\n",
            "[90]\ttrain-logloss:0.02864\teval-logloss:0.08069\n",
            "[91]\ttrain-logloss:0.02832\teval-logloss:0.08041\n",
            "[92]\ttrain-logloss:0.02791\teval-logloss:0.07994\n",
            "[93]\ttrain-logloss:0.02753\teval-logloss:0.07980\n",
            "[94]\ttrain-logloss:0.02736\teval-logloss:0.07985\n",
            "[95]\ttrain-logloss:0.02708\teval-logloss:0.07977\n",
            "[96]\ttrain-logloss:0.02691\teval-logloss:0.07976\n",
            "[97]\ttrain-logloss:0.02656\teval-logloss:0.07956\n",
            "[98]\ttrain-logloss:0.02617\teval-logloss:0.07940\n",
            "[99]\ttrain-logloss:0.02587\teval-logloss:0.07904\n",
            "[100]\ttrain-logloss:0.02564\teval-logloss:0.07881\n",
            "[101]\ttrain-logloss:0.02530\teval-logloss:0.07848\n",
            "[102]\ttrain-logloss:0.02508\teval-logloss:0.07835\n",
            "[103]\ttrain-logloss:0.02470\teval-logloss:0.07794\n",
            "[104]\ttrain-logloss:0.02446\teval-logloss:0.07792\n",
            "[105]\ttrain-logloss:0.02433\teval-logloss:0.07775\n",
            "[106]\ttrain-logloss:0.02391\teval-logloss:0.07763\n",
            "[107]\ttrain-logloss:0.02368\teval-logloss:0.07755\n",
            "[108]\ttrain-logloss:0.02356\teval-logloss:0.07747\n",
            "[109]\ttrain-logloss:0.02341\teval-logloss:0.07737\n",
            "[110]\ttrain-logloss:0.02326\teval-logloss:0.07732\n",
            "[111]\ttrain-logloss:0.02310\teval-logloss:0.07731\n",
            "[112]\ttrain-logloss:0.02298\teval-logloss:0.07717\n",
            "[113]\ttrain-logloss:0.02277\teval-logloss:0.07689\n",
            "[114]\ttrain-logloss:0.02261\teval-logloss:0.07673\n",
            "[115]\ttrain-logloss:0.02220\teval-logloss:0.07616\n",
            "[116]\ttrain-logloss:0.02202\teval-logloss:0.07574\n",
            "[117]\ttrain-logloss:0.02182\teval-logloss:0.07557\n",
            "[118]\ttrain-logloss:0.02160\teval-logloss:0.07542\n",
            "[119]\ttrain-logloss:0.02138\teval-logloss:0.07537\n",
            "[120]\ttrain-logloss:0.02129\teval-logloss:0.07534\n",
            "[121]\ttrain-logloss:0.02087\teval-logloss:0.07518\n",
            "[122]\ttrain-logloss:0.02064\teval-logloss:0.07506\n",
            "[123]\ttrain-logloss:0.02041\teval-logloss:0.07498\n",
            "[124]\ttrain-logloss:0.02032\teval-logloss:0.07495\n",
            "[125]\ttrain-logloss:0.02020\teval-logloss:0.07487\n",
            "[126]\ttrain-logloss:0.01997\teval-logloss:0.07477\n",
            "[127]\ttrain-logloss:0.01965\teval-logloss:0.07440\n",
            "[128]\ttrain-logloss:0.01949\teval-logloss:0.07432\n",
            "[129]\ttrain-logloss:0.01934\teval-logloss:0.07423\n",
            "[130]\ttrain-logloss:0.01924\teval-logloss:0.07418\n",
            "[131]\ttrain-logloss:0.01892\teval-logloss:0.07399\n",
            "[132]\ttrain-logloss:0.01871\teval-logloss:0.07399\n",
            "[133]\ttrain-logloss:0.01860\teval-logloss:0.07398\n",
            "[134]\ttrain-logloss:0.01845\teval-logloss:0.07393\n",
            "[135]\ttrain-logloss:0.01805\teval-logloss:0.07384\n",
            "[136]\ttrain-logloss:0.01793\teval-logloss:0.07372\n",
            "[137]\ttrain-logloss:0.01785\teval-logloss:0.07370\n",
            "[138]\ttrain-logloss:0.01752\teval-logloss:0.07368\n",
            "[139]\ttrain-logloss:0.01730\teval-logloss:0.07359\n",
            "[140]\ttrain-logloss:0.01716\teval-logloss:0.07346\n",
            "[141]\ttrain-logloss:0.01686\teval-logloss:0.07346\n",
            "[142]\ttrain-logloss:0.01678\teval-logloss:0.07349\n",
            "[143]\ttrain-logloss:0.01666\teval-logloss:0.07341\n",
            "[144]\ttrain-logloss:0.01653\teval-logloss:0.07315\n",
            "[145]\ttrain-logloss:0.01642\teval-logloss:0.07295\n",
            "[146]\ttrain-logloss:0.01634\teval-logloss:0.07288\n",
            "[147]\ttrain-logloss:0.01625\teval-logloss:0.07283\n",
            "[148]\ttrain-logloss:0.01595\teval-logloss:0.07267\n",
            "[149]\ttrain-logloss:0.01588\teval-logloss:0.07276\n",
            "[150]\ttrain-logloss:0.01583\teval-logloss:0.07285\n",
            "[151]\ttrain-logloss:0.01568\teval-logloss:0.07269\n",
            "[152]\ttrain-logloss:0.01545\teval-logloss:0.07274\n",
            "[153]\ttrain-logloss:0.01539\teval-logloss:0.07268\n",
            "[154]\ttrain-logloss:0.01527\teval-logloss:0.07235\n",
            "[155]\ttrain-logloss:0.01519\teval-logloss:0.07223\n",
            "[156]\ttrain-logloss:0.01509\teval-logloss:0.07223\n",
            "[157]\ttrain-logloss:0.01483\teval-logloss:0.07215\n",
            "[158]\ttrain-logloss:0.01472\teval-logloss:0.07209\n",
            "[159]\ttrain-logloss:0.01462\teval-logloss:0.07197\n",
            "[160]\ttrain-logloss:0.01438\teval-logloss:0.07209\n",
            "[161]\ttrain-logloss:0.01431\teval-logloss:0.07204\n",
            "[162]\ttrain-logloss:0.01418\teval-logloss:0.07184\n",
            "[163]\ttrain-logloss:0.01401\teval-logloss:0.07162\n",
            "[164]\ttrain-logloss:0.01395\teval-logloss:0.07150\n",
            "[165]\ttrain-logloss:0.01389\teval-logloss:0.07157\n",
            "[166]\ttrain-logloss:0.01378\teval-logloss:0.07133\n",
            "[167]\ttrain-logloss:0.01371\teval-logloss:0.07130\n",
            "[168]\ttrain-logloss:0.01352\teval-logloss:0.07120\n",
            "[169]\ttrain-logloss:0.01342\teval-logloss:0.07113\n",
            "[170]\ttrain-logloss:0.01334\teval-logloss:0.07113\n",
            "[171]\ttrain-logloss:0.01322\teval-logloss:0.07113\n",
            "[172]\ttrain-logloss:0.01312\teval-logloss:0.07100\n",
            "[173]\ttrain-logloss:0.01298\teval-logloss:0.07106\n",
            "[174]\ttrain-logloss:0.01286\teval-logloss:0.07118\n",
            "[175]\ttrain-logloss:0.01278\teval-logloss:0.07113\n",
            "[176]\ttrain-logloss:0.01269\teval-logloss:0.07104\n",
            "[177]\ttrain-logloss:0.01255\teval-logloss:0.07099\n",
            "[178]\ttrain-logloss:0.01243\teval-logloss:0.07115\n",
            "[179]\ttrain-logloss:0.01226\teval-logloss:0.07112\n",
            "[180]\ttrain-logloss:0.01218\teval-logloss:0.07103\n",
            "[181]\ttrain-logloss:0.01214\teval-logloss:0.07111\n",
            "[182]\ttrain-logloss:0.01206\teval-logloss:0.07107\n",
            "[183]\ttrain-logloss:0.01198\teval-logloss:0.07106\n",
            "[184]\ttrain-logloss:0.01181\teval-logloss:0.07107\n",
            "[185]\ttrain-logloss:0.01174\teval-logloss:0.07093\n",
            "[186]\ttrain-logloss:0.01162\teval-logloss:0.07118\n",
            "[187]\ttrain-logloss:0.01151\teval-logloss:0.07107\n",
            "[188]\ttrain-logloss:0.01142\teval-logloss:0.07132\n",
            "[189]\ttrain-logloss:0.01132\teval-logloss:0.07136\n",
            "[190]\ttrain-logloss:0.01124\teval-logloss:0.07124\n",
            "[191]\ttrain-logloss:0.01112\teval-logloss:0.07121\n",
            "[192]\ttrain-logloss:0.01104\teval-logloss:0.07132\n",
            "[193]\ttrain-logloss:0.01097\teval-logloss:0.07131\n",
            "[194]\ttrain-logloss:0.01094\teval-logloss:0.07118\n",
            "[195]\ttrain-logloss:0.01085\teval-logloss:0.07112\n",
            "Best iteration: 185\n"
          ]
        }
      ]
    },
    {
      "cell_type": "code",
      "source": [
        "xgb_model.best_iteration"
      ],
      "metadata": {
        "execution": {
          "iopub.execute_input": "2024-05-02T21:18:42.384688Z",
          "iopub.status.busy": "2024-05-02T21:18:42.384024Z",
          "iopub.status.idle": "2024-05-02T21:18:42.390198Z",
          "shell.execute_reply": "2024-05-02T21:18:42.389152Z"
        },
        "id": "XqhovXrtDRn6",
        "papermill": {
          "duration": 0.042372,
          "end_time": "2024-05-02T21:18:42.392208",
          "exception": false,
          "start_time": "2024-05-02T21:18:42.349836",
          "status": "completed"
        },
        "tags": [],
        "colab": {
          "base_uri": "https://localhost:8080/"
        },
        "outputId": "3a651abe-1548-49cb-ff2a-bd65c71d06dd"
      },
      "execution_count": null,
      "outputs": [
        {
          "output_type": "execute_result",
          "data": {
            "text/plain": [
              "185"
            ]
          },
          "metadata": {},
          "execution_count": 62
        }
      ]
    },
    {
      "cell_type": "code",
      "source": [
        "from sklearn.metrics import classification_report\n",
        "\n",
        "# Convert X_test into DMatrix\n",
        "dtest = xgb.DMatrix(X_test)\n",
        "\n",
        "# Predict probabilities\n",
        "y_pred_proba = xgb_model.predict(dtest)\n",
        "\n",
        "# Convert probabilities to binary predictions (threshold = 0.5)\n",
        "predictions = (y_pred_proba > 0.5).astype(int)\n",
        "\n",
        "# Evaluate\n",
        "print(classification_report(y_test, predictions))\n"
      ],
      "metadata": {
        "execution": {
          "iopub.execute_input": "2024-05-02T21:18:42.457973Z",
          "iopub.status.busy": "2024-05-02T21:18:42.457588Z",
          "iopub.status.idle": "2024-05-02T21:18:42.484392Z",
          "shell.execute_reply": "2024-05-02T21:18:42.483044Z"
        },
        "id": "Wy5GuVRxGp8U",
        "papermill": {
          "duration": 0.062414,
          "end_time": "2024-05-02T21:18:42.486785",
          "exception": false,
          "start_time": "2024-05-02T21:18:42.424371",
          "status": "completed"
        },
        "tags": [],
        "colab": {
          "base_uri": "https://localhost:8080/"
        },
        "outputId": "4ddcb72c-494c-4434-c840-92da30646ef6"
      },
      "execution_count": null,
      "outputs": [
        {
          "output_type": "stream",
          "name": "stdout",
          "text": [
            "              precision    recall  f1-score   support\n",
            "\n",
            "           0       0.99      0.97      0.98      1361\n",
            "           1       0.97      0.99      0.98      1351\n",
            "\n",
            "    accuracy                           0.98      2712\n",
            "   macro avg       0.98      0.98      0.98      2712\n",
            "weighted avg       0.98      0.98      0.98      2712\n",
            "\n"
          ]
        }
      ]
    }
  ]
}